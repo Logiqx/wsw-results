{
 "cells": [
  {
   "cell_type": "markdown",
   "metadata": {},
   "source": [
    "# UKWA Stats Module\n",
    "\n",
    "Copyright 2023 Michael George (AKA Logiqx).\n",
    "\n",
    "This file is part of [wsw-results](https://github.com/Logiqx/wsw-results) and is distributed under the terms of the GNU General Public License.\n",
    "\n",
    "wsw-results is free software: you can redistribute it and/or modify it under the terms of the GNU General Public License as published by the Free Software Foundation, either version 3 of the License, or (at your option) any later version.\n",
    "\n",
    "wsw-results is distributed in the hope that it will be useful, but WITHOUT ANY WARRANTY; without even the implied warranty of MERCHANTABILITY or FITNESS FOR A PARTICULAR PURPOSE. See the GNU General Public License for more details.\n",
    "\n",
    "You should have received a copy of the GNU General Public License along with sse-results. If not, see <https://www.gnu.org/licenses/>."
   ]
  },
  {
   "cell_type": "markdown",
   "metadata": {},
   "source": [
    "### Summary\n",
    "\n",
    "Adhoc script to determine the correctness of UKWA flags in the current year"
   ]
  },
  {
   "cell_type": "markdown",
   "metadata": {},
   "source": [
    "## Initialisation\n",
    "\n",
    "Basic approach to determine the project directory"
   ]
  },
  {
   "cell_type": "code",
   "execution_count": 36,
   "metadata": {},
   "outputs": [],
   "source": [
    "import os\n",
    "import sys\n",
    "import glob\n",
    "\n",
    "import csv\n",
    "import math\n",
    "\n",
    "import numpy as np\n",
    "\n",
    "from datetime import datetime"
   ]
  },
  {
   "cell_type": "code",
   "execution_count": 37,
   "metadata": {},
   "outputs": [],
   "source": [
    "PROJDIR = os.path.realpath(os.path.join(sys.path[0], '..'))"
   ]
  },
  {
   "cell_type": "code",
   "execution_count": 38,
   "metadata": {},
   "outputs": [],
   "source": [
    "RUN_2_KTS = 'Run 2 (kts)'\n",
    "AVG_KTS = 'Avg (kts)'\n",
    "STATUS = 'Status'"
   ]
  },
  {
   "cell_type": "markdown",
   "metadata": {},
   "source": [
    "## Process Entrants\n",
    "\n",
    "Process all names"
   ]
  },
  {
   "cell_type": "code",
   "execution_count": 39,
   "metadata": {},
   "outputs": [],
   "source": [
    "def load_courses():\n",
    "    '''Load courses'''\n",
    "       \n",
    "    csvFile = os.path.join(PROJDIR, 'resources', 'ukwa', 'analysis', 'courses.csv')\n",
    "    \n",
    "    courses = {}\n",
    "    with open(csvFile, 'r', encoding='utf-8') as f:\n",
    "        csvReader = csv.DictReader(f)\n",
    "        for row in csvReader:\n",
    "            courses[row['session']] = row['course']\n",
    "\n",
    "    return courses"
   ]
  },
  {
   "cell_type": "code",
   "execution_count": 41,
   "metadata": {},
   "outputs": [],
   "source": [
    "def isValidOld(results):\n",
    "    '''Evaluate results using old rules'''\n",
    "    \n",
    "    allRuns = []\n",
    "    for result in results:\n",
    "        try:\n",
    "            allRuns.append(float(result[RUN_2_KTS]))\n",
    "        except ValueError:\n",
    "            allRuns.append(0)\n",
    "            \n",
    "    allRuns = sorted(allRuns, reverse=True)\n",
    "            \n",
    "    percent25 = math.ceil(len(allRuns) / 4)\n",
    "    percent50 = math.ceil(len(allRuns) / 2)\n",
    "    \n",
    "    valid = False\n",
    "\n",
    "    if allRuns[percent25 - 1] >= 28:\n",
    "        valid = True\n",
    "        \n",
    "    return valid\n",
    "    \n",
    "\n",
    "def isValidNew(results):\n",
    "    '''Evaluate results using new rules'''\n",
    "    \n",
    "    allRuns = []\n",
    "    for result in results:\n",
    "        try:\n",
    "            allRuns.append(float(result[AVG_KTS]))\n",
    "        except ValueError:\n",
    "            allRuns.append(0)\n",
    "            \n",
    "    allRuns = sorted(allRuns, reverse=True)\n",
    "            \n",
    "    percent25 = len(allRuns) // 4\n",
    "    percent50 = len(allRuns) // 2\n",
    "    \n",
    "    valid = False\n",
    "\n",
    "    if allRuns[percent25 - 1] >= 28:\n",
    "        valid = True\n",
    "    elif allRuns[percent25 - 1] >= 27.5 and allRuns[percent50 - 1] > 26:\n",
    "        valid = True\n",
    "\n",
    "    return allRuns[percent25 - 1], allRuns[percent50 - 1], valid\n",
    "    \n",
    "\n",
    "def isValidComplex(results, course, harbourSpeed=27, shoreSpeed=27, proGold=True):\n",
    "    '''Evaluate results using new rules - complex'''\n",
    "\n",
    "    silverRuns = []\n",
    "    for result in results:\n",
    "        if proGold or 'gold' in result[STATUS].lower() or 'pro' in result[STATUS].lower():\n",
    "            try:\n",
    "                silverRuns.append(float(result[RUN_2_KTS]))\n",
    "            except ValueError:\n",
    "                silverRuns.append(0)\n",
    "\n",
    "    valid = False\n",
    "\n",
    "    if len(silverRuns) > 0:\n",
    "        silverRuns = sorted(silverRuns, reverse=True)\n",
    "\n",
    "        percent25 = math.ceil(len(silverRuns) / 4)\n",
    "        percent50 = math.ceil(len(silverRuns) / 2)\n",
    "\n",
    "        if course == 'H':\n",
    "            threshold = harbourSpeed\n",
    "        else:\n",
    "            threshold = shoreSpeed\n",
    "\n",
    "        if silverRuns[percent25 - 1] >= threshold or silverRuns[percent50 - 1] >= threshold - 2:\n",
    "            valid = True\n",
    "        \n",
    "    return valid\n",
    "\n",
    "    \n",
    "def processSession(year, csvFile, courses):\n",
    "    '''processSession processes an individual session for an event'''\n",
    "\n",
    "    results = []\n",
    "    with open(csvFile, 'r', encoding='utf-8') as f:\n",
    "        csvReader = csv.DictReader(f)\n",
    "        for result in csvReader:\n",
    "            results.append(result)\n",
    "\n",
    "    session = os.path.basename(os.path.dirname(csvFile))\n",
    "    course = courses[session]\n",
    "    \n",
    "    validOld = isValidOld(results)\n",
    "    percent25, percent50, validNew = isValidNew(results)\n",
    "\n",
    "    #valid27 = isValidComplex(results, course)\n",
    "    #valid26 = isValidComplex(results, course, harbourSpeed=26, shoreSpeed=26)\n",
    "\n",
    "    baseUrl = 'https://results.weymouthspeedweek.com/events'\n",
    "    courseDesc = 'Harbour' if course == 'H' else 'Shore'\n",
    "    link = '[{} / {} / {}]({}/{}/{}/ukwa.html)'.format(session, os.path.splitext(os.path.basename(csvFile))[0], courseDesc,\n",
    "                                                     baseUrl, session[:4], session)\n",
    "\n",
    "    if validNew is True and len(results) < 12:\n",
    "        print('{} {},{},{}'.format(link, percent25, percent50, len(results)))"
   ]
  },
  {
   "cell_type": "code",
   "execution_count": 42,
   "metadata": {},
   "outputs": [],
   "source": [
    "def processEvent(year, courses):\n",
    "    '''processYear processes all of the sessions for an event'''\n",
    "\n",
    "    csvFiles = sorted(glob.glob(os.path.join(PROJDIR, 'events', str(year), 'sailwave', '*', 'UKWA*Men*.csv')))\n",
    "    \n",
    "    for csvFile in csvFiles:\n",
    "        if \"Wing\" not in csvFile:\n",
    "            processSession(year, csvFile, courses)"
   ]
  },
  {
   "cell_type": "code",
   "execution_count": 43,
   "metadata": {},
   "outputs": [
    {
     "name": "stdout",
     "output_type": "stream",
     "text": [
      "[20131018 / UKWA - Men / Harbour](https://results.weymouthspeedweek.com/events/2013/20131018/ukwa.html) 31.59,28.28,10\n",
      "[20151007 / UKWA - Leg 2 - Men / Shore](https://results.weymouthspeedweek.com/events/2015/20151007/ukwa.html) 30.12,26.7,10\n",
      "[20191007 / UKWA - Leg 1 - Men / Harbour](https://results.weymouthspeedweek.com/events/2019/20191007/ukwa.html) 34.0,33.45,9\n",
      "[20191007 / UKWA - Leg 2 - Men / Harbour](https://results.weymouthspeedweek.com/events/2019/20191007/ukwa.html) 34.36,33.69,9\n",
      "[20191009 / UKWA - Leg 1 - Men / Shore](https://results.weymouthspeedweek.com/events/2019/20191009/ukwa.html) 32.89,32.24,11\n",
      "[20221016 / UKWA - Leg 1 - Sailboards (Men) / Harbour](https://results.weymouthspeedweek.com/events/2022/20221016/ukwa.html) 29.19,25.67,11\n",
      "[20221019 / UKWA - Leg 1 - Sailboards (Men) / Harbour](https://results.weymouthspeedweek.com/events/2022/20221019/ukwa.html) 31.35,26.04,11\n",
      "[20221021 / UKWA - Leg 1 - Sailboards (Men) / Shore](https://results.weymouthspeedweek.com/events/2022/20221021/ukwa.html) 31.19,27.46,8\n",
      "\n",
      "All done\n"
     ]
    }
   ],
   "source": [
    "def main():\n",
    "    courses = load_courses()\n",
    "    \n",
    "    for year in range(2010, 2030):\n",
    "        processEvent(year, courses)\n",
    "\n",
    "    print('\\nAll done')\n",
    "\n",
    "if __name__ == '__main__':\n",
    "    main()"
   ]
  },
  {
   "cell_type": "markdown",
   "metadata": {
    "collapsed": true,
    "jupyter": {
     "outputs_hidden": true
    }
   },
   "source": [
    "## All Done!"
   ]
  }
 ],
 "metadata": {
  "kernelspec": {
   "display_name": "Python 3 (ipykernel)",
   "language": "python",
   "name": "python3"
  },
  "language_info": {
   "codemirror_mode": {
    "name": "ipython",
    "version": 3
   },
   "file_extension": ".py",
   "mimetype": "text/x-python",
   "name": "python",
   "nbconvert_exporter": "python",
   "pygments_lexer": "ipython3",
   "version": "3.11.4"
  }
 },
 "nbformat": 4,
 "nbformat_minor": 4
}
