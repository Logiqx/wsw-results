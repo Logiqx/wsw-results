{
 "cells": [
  {
   "cell_type": "markdown",
   "metadata": {},
   "source": [
    "# UKWA Stats Module\n",
    "\n",
    "Copyright 2023 Michael George (AKA Logiqx).\n",
    "\n",
    "This file is part of [wsw-results](https://github.com/Logiqx/wsw-results) and is distributed under the terms of the GNU General Public License.\n",
    "\n",
    "wsw-results is free software: you can redistribute it and/or modify it under the terms of the GNU General Public License as published by the Free Software Foundation, either version 3 of the License, or (at your option) any later version.\n",
    "\n",
    "wsw-results is distributed in the hope that it will be useful, but WITHOUT ANY WARRANTY; without even the implied warranty of MERCHANTABILITY or FITNESS FOR A PARTICULAR PURPOSE. See the GNU General Public License for more details.\n",
    "\n",
    "You should have received a copy of the GNU General Public License along with sse-results. If not, see <https://www.gnu.org/licenses/>."
   ]
  },
  {
   "cell_type": "markdown",
   "metadata": {},
   "source": [
    "### Summary\n",
    "\n",
    "Adhoc script to determine the correctness of UKWA flags in the current year"
   ]
  },
  {
   "cell_type": "markdown",
   "metadata": {},
   "source": [
    "## Initialisation\n",
    "\n",
    "Basic approach to determine the project directory"
   ]
  },
  {
   "cell_type": "code",
   "execution_count": 1,
   "metadata": {},
   "outputs": [],
   "source": [
    "import os\n",
    "import sys\n",
    "import glob\n",
    "\n",
    "import csv\n",
    "import math\n",
    "\n",
    "import numpy as np\n",
    "\n",
    "from datetime import datetime"
   ]
  },
  {
   "cell_type": "code",
   "execution_count": 2,
   "metadata": {},
   "outputs": [],
   "source": [
    "PROJDIR = os.path.realpath(os.path.join(sys.path[0], '..'))"
   ]
  },
  {
   "cell_type": "markdown",
   "metadata": {},
   "source": [
    "## Process Entrants\n",
    "\n",
    "Process all names"
   ]
  },
  {
   "cell_type": "code",
   "execution_count": 3,
   "metadata": {},
   "outputs": [],
   "source": [
    "def compare_25_50(year, csvFile):\n",
    "    '''processSession processes an individual session for an event'''\n",
    "\n",
    "    session = os.path.basename(os.path.dirname(csvFile))\n",
    "    \n",
    "    RUN_2_KTS = 'Run 2 (kts)'\n",
    "    AVG_KTS = 'Avg (kts)'\n",
    "\n",
    "    results = []\n",
    "    runs = []\n",
    "    averages = []\n",
    "    with open(csvFile, 'r', encoding='utf-8') as f:\n",
    "        csvReader = csv.DictReader(f)\n",
    "        for result in csvReader:\n",
    "            results.append(result)\n",
    "            try:\n",
    "                runs.append(float(result[RUN_2_KTS]))\n",
    "            except ValueError:\n",
    "                runs.append(0)\n",
    "            averages.append(float(result[AVG_KTS]))\n",
    "            \n",
    "    runs = sorted(runs, reverse=True)\n",
    "            \n",
    "    percent25 = math.ceil(len(runs) / 4)\n",
    "    percent50 = math.ceil(len(runs) / 2)\n",
    "    \n",
    "    if runs[percent25 - 1] >= 28 and runs[percent50 - 1] >= 26:\n",
    "        #print(session, 'valid-both', len(results), runs[percent25 - 1], runs[percent50 - 1])\n",
    "        pass\n",
    "\n",
    "    if runs[percent50 - 1]:\n",
    "        if runs[percent25 - 1] >= 28:\n",
    "            #print(session, 'valid-25', len(results), runs[percent25 - 1], runs[percent50 - 1])\n",
    "            pass\n",
    "        elif runs[percent50 - 1] >= 26:\n",
    "            print(session, 'valid-50', len(results), runs[percent25 - 1], runs[percent50 - 1])\n",
    "            pass\n",
    "        else:\n",
    "            #print(session, 'invalid', len(results), runs[percent25 - 1], runs[percent50 - 1])\n",
    "            pass\n",
    "\n",
    "    if runs[percent25 - 1]:\n",
    "        if runs[percent50 - 1] >= 26:\n",
    "            #print(session, 'valid-50', len(results), runs[percent25 - 1], runs[percent50 - 1])\n",
    "            pass\n",
    "        elif runs[percent25 - 1] >= 28:\n",
    "            print(session, 'valid-25', len(results), runs[percent25 - 1], runs[percent50 - 1])\n",
    "        else:\n",
    "            #print(session, 'invalid', len(results), runs[percent25 - 1], runs[percent50 - 1])\n",
    "            pass"
   ]
  },
  {
   "cell_type": "code",
   "execution_count": 4,
   "metadata": {},
   "outputs": [],
   "source": [
    "def processSession(year, csvFile):\n",
    "    '''processSession processes an individual session for an event'''\n",
    "\n",
    "    session = os.path.basename(os.path.dirname(csvFile))\n",
    "    \n",
    "    RUN_2_KTS = 'Run 2 (kts)'\n",
    "    AVG_KTS = 'Avg (kts)'\n",
    "    STATUS = 'Status'\n",
    "\n",
    "    results = []\n",
    "    with open(csvFile, 'r', encoding='utf-8') as f:\n",
    "        csvReader = csv.DictReader(f)\n",
    "        for result in csvReader:\n",
    "            results.append(result)\n",
    "\n",
    "    allRuns = []\n",
    "    for result in results:\n",
    "        try:\n",
    "            allRuns.append(float(result[RUN_2_KTS]))\n",
    "        except ValueError:\n",
    "            allRuns.append(0)\n",
    "            \n",
    "    allRuns = sorted(allRuns, reverse=True)\n",
    "            \n",
    "    percent25 = math.ceil(len(allRuns) / 4)\n",
    "    percent50 = math.ceil(len(allRuns) / 2)\n",
    "    \n",
    "    if allRuns[percent25 - 1] >= 28: # or allRuns[percent50 - 1] >= 26:\n",
    "        oldRule = True\n",
    "    else:\n",
    "        oldRule = False\n",
    "\n",
    "    silverRuns = []\n",
    "    for result in results:\n",
    "        if 'gold' in result[STATUS].lower() or 'pro' in result[STATUS].lower():\n",
    "            try:\n",
    "                silverRuns.append(float(result[RUN_2_KTS]))\n",
    "            except ValueError:\n",
    "                silverRuns.append(0)\n",
    "\n",
    "    if len(silverRuns) > 0:\n",
    "        silverRuns = sorted(silverRuns, reverse=True)\n",
    "\n",
    "        percent25 = math.ceil(len(silverRuns) / 4)\n",
    "        percent50 = math.ceil(len(silverRuns) / 2)\n",
    "\n",
    "        if silverRuns[percent25 - 1] >= 28 or silverRuns[percent50 - 1] >= 26:\n",
    "            newRule = True\n",
    "        else:\n",
    "            newRule = False\n",
    "\n",
    "        link = '[{}](https://logiqx.github.io/wsw-results/results/{}/{}/ukwa.html)'.format(session, session[:4], session)\n",
    "        \n",
    "        if oldRule == True and newRule == False:\n",
    "            print('-', link, 'new rules deficient', len(results), silverRuns[percent25 - 1], silverRuns[percent50 - 1])\n",
    "\n",
    "        if oldRule == False and newRule == True:\n",
    "            print('-', link, 'new rules help', len(results), silverRuns[percent25 - 1], silverRuns[percent50 - 1])\n",
    "            pass"
   ]
  },
  {
   "cell_type": "code",
   "execution_count": 5,
   "metadata": {},
   "outputs": [],
   "source": [
    "def processEvent(year):\n",
    "    '''processYear processes all of the sessions for an event'''\n",
    "\n",
    "    csvFiles = sorted(glob.glob(os.path.join(PROJDIR, 'events', str(year), 'sailwave', '*', '*Men*.csv')))\n",
    "    \n",
    "    for csvFile in csvFiles:\n",
    "        if \"Wing\" not in csvFile:\n",
    "            processSession(year, csvFile)"
   ]
  },
  {
   "cell_type": "code",
   "execution_count": 6,
   "metadata": {},
   "outputs": [
    {
     "name": "stdout",
     "output_type": "stream",
     "text": [
      "- [20111019](https://logiqx.github.io/wsw-results/results/2011/20111019/ukwa.html) new rules help 18 27.63 26.12\n",
      "- [20121009](https://logiqx.github.io/wsw-results/results/2012/20121009/ukwa.html) new rules help 19 28.99 25.57\n",
      "- [20121009](https://logiqx.github.io/wsw-results/results/2012/20121009/ukwa.html) new rules help 19 29.1 26.38\n",
      "- [20121010](https://logiqx.github.io/wsw-results/results/2012/20121010/ukwa.html) new rules help 13 29.56 27.57\n",
      "- [20141018](https://logiqx.github.io/wsw-results/results/2014/20141018/ukwa.html) new rules help 19 28.78 26.73\n",
      "- [20141018](https://logiqx.github.io/wsw-results/results/2014/20141018/ukwa.html) new rules help 15 28.54 27.31\n",
      "- [20151004](https://logiqx.github.io/wsw-results/results/2015/20151004/ukwa.html) new rules help 21 28.39 25.57\n",
      "- [20151005](https://logiqx.github.io/wsw-results/results/2015/20151005/ukwa.html) new rules help 24 28.3 26.72\n",
      "- [20221018](https://logiqx.github.io/wsw-results/results/2022/20221018/ukwa.html) new rules help 22 28.37 27.33\n",
      "- [20231011](https://logiqx.github.io/wsw-results/results/2023/20231011/ukwa.html) new rules help 22 27.89 26.23\n",
      "- [20231011](https://logiqx.github.io/wsw-results/results/2023/20231011/ukwa.html) new rules help 25 28.21 26.76\n",
      "- [20231012](https://logiqx.github.io/wsw-results/results/2023/20231012/ukwa.html) new rules help 3 26.53 26.53\n",
      "All done\n"
     ]
    }
   ],
   "source": [
    "def main():\n",
    "    for year in range(2000, 2050):\n",
    "        processEvent(year)\n",
    "      \n",
    "    print('All done')\n",
    "\n",
    "if __name__ == '__main__':\n",
    "    main()"
   ]
  },
  {
   "cell_type": "markdown",
   "metadata": {
    "collapsed": true
   },
   "source": [
    "## All Done!"
   ]
  }
 ],
 "metadata": {
  "kernelspec": {
   "display_name": "Python 3 (ipykernel)",
   "language": "python",
   "name": "python3"
  },
  "language_info": {
   "codemirror_mode": {
    "name": "ipython",
    "version": 3
   },
   "file_extension": ".py",
   "mimetype": "text/x-python",
   "name": "python",
   "nbconvert_exporter": "python",
   "pygments_lexer": "ipython3",
   "version": "3.9.7"
  }
 },
 "nbformat": 4,
 "nbformat_minor": 1
}
