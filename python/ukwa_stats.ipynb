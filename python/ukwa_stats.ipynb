{
 "cells": [
  {
   "cell_type": "markdown",
   "metadata": {},
   "source": [
    "# UKWA Stats Module\n",
    "\n",
    "Copyright 2023 Michael George (AKA Logiqx).\n",
    "\n",
    "This file is part of [wsw-results](https://github.com/Logiqx/wsw-results) and is distributed under the terms of the GNU General Public License.\n",
    "\n",
    "wsw-results is free software: you can redistribute it and/or modify it under the terms of the GNU General Public License as published by the Free Software Foundation, either version 3 of the License, or (at your option) any later version.\n",
    "\n",
    "wsw-results is distributed in the hope that it will be useful, but WITHOUT ANY WARRANTY; without even the implied warranty of MERCHANTABILITY or FITNESS FOR A PARTICULAR PURPOSE. See the GNU General Public License for more details.\n",
    "\n",
    "You should have received a copy of the GNU General Public License along with sse-results. If not, see <https://www.gnu.org/licenses/>."
   ]
  },
  {
   "cell_type": "markdown",
   "metadata": {},
   "source": [
    "### Summary\n",
    "\n",
    "Adhoc script to determine the correctness of UKWA flags in the current year"
   ]
  },
  {
   "cell_type": "markdown",
   "metadata": {},
   "source": [
    "## Initialisation\n",
    "\n",
    "Basic approach to determine the project directory"
   ]
  },
  {
   "cell_type": "code",
   "execution_count": 1,
   "metadata": {},
   "outputs": [],
   "source": [
    "import os\n",
    "import sys\n",
    "import glob\n",
    "\n",
    "import csv\n",
    "import math\n",
    "\n",
    "from datetime import datetime"
   ]
  },
  {
   "cell_type": "code",
   "execution_count": 2,
   "metadata": {},
   "outputs": [],
   "source": [
    "PROJDIR = os.path.realpath(os.path.join(sys.path[0], '..'))"
   ]
  },
  {
   "cell_type": "markdown",
   "metadata": {},
   "source": [
    "## Process Entrants\n",
    "\n",
    "Process all names"
   ]
  },
  {
   "cell_type": "code",
   "execution_count": 3,
   "metadata": {},
   "outputs": [],
   "source": [
    "def processSession(year, csvFile):\n",
    "    '''processSession processes an individual session for an event'''\n",
    "\n",
    "    session = os.path.basename(os.path.dirname(csvFile))\n",
    "    \n",
    "    results = []\n",
    "    with open(csvFile, 'r', encoding='utf-8') as f:\n",
    "        csvReader = csv.DictReader(f)\n",
    "        for result in csvReader:\n",
    "            results.append(result)\n",
    "            \n",
    "    percent25 = math.ceil(len(results) / 4)\n",
    "    percent50 = math.ceil(len(results) / 2)\n",
    "    \n",
    "    if results[percent50 - 1]['Run 2 (kts)']:\n",
    "        field = 'Avg (kts)'\n",
    "        print(session, len(results), results[percent25 - 1][field], results[percent50 - 1][field])"
   ]
  },
  {
   "cell_type": "code",
   "execution_count": 4,
   "metadata": {},
   "outputs": [],
   "source": [
    "def processEvent(year):\n",
    "    '''processYear processes all of the sessions for an event'''\n",
    "\n",
    "    csvFiles = glob.glob(os.path.join(PROJDIR, 'events', str(year), 'sailwave', '*', '*Men*.csv'))\n",
    "    \n",
    "    for csvFile in csvFiles:\n",
    "        if \"Wing\" not in csvFile:\n",
    "            processSession(year, csvFile)"
   ]
  },
  {
   "cell_type": "code",
   "execution_count": 5,
   "metadata": {},
   "outputs": [
    {
     "name": "stdout",
     "output_type": "stream",
     "text": [
      "20101021 6 19.63 18.55\n",
      "20101019 32 28.93 27.04\n",
      "20101018 21 25.40 24.91\n",
      "20101016 18 24.59 22.57\n",
      "20101022 23 24.31 23.24\n",
      "20101017 5 16.24 16.13\n",
      "20101020 4 21.71 19.55\n",
      "20111015 5 10.66 9.01\n",
      "20111016 12 16.42 14.79\n",
      "20111019 18 27.63 26.35\n",
      "20111018 24 29.70 27.99\n",
      "20111021 19 23.49 22.69\n",
      "20111017 33 32.66 30.34\n",
      "20121012 24 29.00 27.15\n",
      "20121012 27 26.15 24.14\n",
      "20121009 19 27.58 25.62\n",
      "20121009 19 26.84 24.81\n",
      "20121010 13 28.08 25.60\n",
      "20121010 18 28.65 26.13\n",
      "20121006 7 19.85 19.55\n",
      "20121011 6 21.66 19.45\n",
      "20121011 1 22.96 22.96\n",
      "20121007 5 21.81 20.05\n",
      "20121007 6 18.99 18.72\n",
      "20131016 28 30.14 28.94\n",
      "20131013 14 20.39 18.54\n",
      "20131018 10 29.85 28.28\n",
      "20131017 27 26.14 24.57\n",
      "20131012 18 24.32 22.70\n",
      "20131014 18 27.47 26.39\n",
      "20141022 15 25.27 24.43\n",
      "20141022 6 22.12 21.97\n",
      "20141021 14 31.77 29.54\n",
      "20141021 14 30.16 27.61\n",
      "20141018 15 27.71 25.44\n",
      "20141018 19 27.30 25.36\n",
      "20141020 15 30.42 29.24\n",
      "20141020 15 30.99 28.93\n",
      "20141023 19 30.87 28.59\n",
      "20141023 18 28.96 27.56\n",
      "20141019 24 31.10 28.98\n",
      "20141019 22 30.39 28.28\n",
      "20151003 1 3.67 3.67\n",
      "20151005 25 28.62 26.35\n",
      "20151005 24 27.53 26.21\n",
      "20151006 4 20.95 20.07\n",
      "20151006 24 24.93 23.50\n",
      "20151004 21 25.91 25.62\n",
      "20151004 10 24.46 22.48\n",
      "20151007 10 29.81 26.70\n",
      "20151007 26 29.88 28.97\n",
      "20161012 23 27.78 25.58\n",
      "20161012 23 26.87 24.41\n",
      "20161010 6 18.47 18.04\n",
      "20161009 8 20.34 17.97\n",
      "20161009 13 22.00 19.77\n",
      "20161011 16 25.23 22.82\n",
      "20161011 13 25.59 23.50\n",
      "20161013 12 27.20 23.88\n",
      "20161013 24 28.49 26.70\n",
      "20161008 7 20.10 19.12\n",
      "20161014 9 25.16 24.01\n",
      "20171016 23 34.25 33.25\n",
      "20171016 21 33.68 30.94\n",
      "20171018 7 20.98 19.38\n",
      "20171015 19 25.41 23.35\n",
      "20171019 17 28.66 26.73\n",
      "20171020 2 21.99 21.99\n",
      "20171020 15 34.22 30.81\n",
      "20181014 18 30.25 28.12\n",
      "20181018 6 23.68 22.28\n",
      "20181018 19 28.62 26.10\n",
      "20181013 25 30.08 27.87\n",
      "20181013 25 29.25 26.11\n",
      "20181015 9 25.58 24.05\n",
      "20181015 18 30.38 28.83\n",
      "20181016 22 26.34 24.17\n",
      "20181016 1 13.06 13.06\n",
      "20191005 3 19.61 17.58\n",
      "20191008 20 32.21 30.18\n",
      "20191008 19 31.44 29.46\n",
      "20191011 16 36.39 33.46\n",
      "20191011 17 35.47 32.95\n",
      "20191010 18 31.82 30.50\n",
      "20191010 12 32.62 29.86\n",
      "20191009 19 30.89 29.25\n",
      "20191009 11 32.76 31.74\n",
      "20191006 18 31.20 29.98\n",
      "20191006 19 30.52 29.00\n",
      "20191007 9 33.99 31.64\n",
      "20191007 9 33.55 31.82\n",
      "20211014 9 22.82 18.25\n",
      "20211010 6 23.81 21.35\n",
      "20211012 8 23.62 19.87\n",
      "20211012 3 20.77 18.77\n",
      "20211011 3 21.88 20.17\n",
      "20221016 11 26.84 24.91\n",
      "20221021 8 31.19 27.46\n",
      "20221021 12 31.90 28.89\n",
      "20221015 31 30.22 26.94\n",
      "20221015 34 31.98 29.89\n",
      "20221019 11 30.55 24.05\n",
      "20221019 12 29.85 26.64\n",
      "20221018 5 23.17 22.76\n",
      "20221018 22 27.73 26.10\n",
      "20221017 21 25.77 24.63\n",
      "20231012 3 26.69 24.11\n",
      "20231012 14 29.08 27.13\n",
      "20231013 28 31.08 29.74\n",
      "20231013 28 32.39 30.06\n",
      "20231010 14 25.01 24.15\n",
      "20231010 13 23.88 22.61\n",
      "20231011 22 26.72 25.66\n",
      "20231011 25 27.60 26.44\n",
      "20231007 17 22.80 21.88\n",
      "20231007 12 23.22 22.05\n",
      "All done\n"
     ]
    }
   ],
   "source": [
    "def main():\n",
    "    for year in range(2000, 2050):\n",
    "        processEvent(year)\n",
    "      \n",
    "    print('All done')\n",
    "\n",
    "if __name__ == '__main__':\n",
    "    main()"
   ]
  },
  {
   "cell_type": "markdown",
   "metadata": {
    "collapsed": true
   },
   "source": [
    "## All Done!"
   ]
  }
 ],
 "metadata": {
  "kernelspec": {
   "display_name": "Python 3 (ipykernel)",
   "language": "python",
   "name": "python3"
  },
  "language_info": {
   "codemirror_mode": {
    "name": "ipython",
    "version": 3
   },
   "file_extension": ".py",
   "mimetype": "text/x-python",
   "name": "python",
   "nbconvert_exporter": "python",
   "pygments_lexer": "ipython3",
   "version": "3.9.7"
  }
 },
 "nbformat": 4,
 "nbformat_minor": 1
}
