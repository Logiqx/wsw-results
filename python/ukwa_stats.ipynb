{
 "cells": [
  {
   "cell_type": "markdown",
   "metadata": {},
   "source": [
    "# UKWA Stats Module\n",
    "\n",
    "Copyright 2023 Michael George (AKA Logiqx).\n",
    "\n",
    "This file is part of [wsw-results](https://github.com/Logiqx/wsw-results) and is distributed under the terms of the GNU General Public License.\n",
    "\n",
    "wsw-results is free software: you can redistribute it and/or modify it under the terms of the GNU General Public License as published by the Free Software Foundation, either version 3 of the License, or (at your option) any later version.\n",
    "\n",
    "wsw-results is distributed in the hope that it will be useful, but WITHOUT ANY WARRANTY; without even the implied warranty of MERCHANTABILITY or FITNESS FOR A PARTICULAR PURPOSE. See the GNU General Public License for more details.\n",
    "\n",
    "You should have received a copy of the GNU General Public License along with sse-results. If not, see <https://www.gnu.org/licenses/>."
   ]
  },
  {
   "cell_type": "markdown",
   "metadata": {},
   "source": [
    "### Summary\n",
    "\n",
    "Adhoc script to determine the correctness of UKWA flags in the current year"
   ]
  },
  {
   "cell_type": "markdown",
   "metadata": {},
   "source": [
    "## Initialisation\n",
    "\n",
    "Basic approach to determine the project directory"
   ]
  },
  {
   "cell_type": "code",
   "execution_count": 1,
   "metadata": {},
   "outputs": [],
   "source": [
    "import os\n",
    "import sys\n",
    "import glob\n",
    "\n",
    "import csv\n",
    "import math\n",
    "\n",
    "import numpy as np\n",
    "\n",
    "from datetime import datetime"
   ]
  },
  {
   "cell_type": "code",
   "execution_count": 2,
   "metadata": {},
   "outputs": [],
   "source": [
    "PROJDIR = os.path.realpath(os.path.join(sys.path[0], '..'))"
   ]
  },
  {
   "cell_type": "markdown",
   "metadata": {},
   "source": [
    "## Process Entrants\n",
    "\n",
    "Process all names"
   ]
  },
  {
   "cell_type": "code",
   "execution_count": 3,
   "metadata": {},
   "outputs": [],
   "source": [
    "def compare_25_50(year, csvFile):\n",
    "    '''processSession processes an individual session for an event'''\n",
    "\n",
    "    session = os.path.basename(os.path.dirname(csvFile))\n",
    "    \n",
    "    RUN_2_KTS = 'Run 2 (kts)'\n",
    "    AVG_KTS = 'Avg (kts)'\n",
    "\n",
    "    results = []\n",
    "    runs = []\n",
    "    averages = []\n",
    "    with open(csvFile, 'r', encoding='utf-8') as f:\n",
    "        csvReader = csv.DictReader(f)\n",
    "        for result in csvReader:\n",
    "            results.append(result)\n",
    "            try:\n",
    "                runs.append(float(result[RUN_2_KTS]))\n",
    "            except ValueError:\n",
    "                runs.append(0)\n",
    "            averages.append(float(result[AVG_KTS]))\n",
    "            \n",
    "    runs = sorted(runs, reverse=True)\n",
    "            \n",
    "    percent25 = math.ceil(len(runs) / 4)\n",
    "    percent50 = math.ceil(len(runs) / 2)\n",
    "    \n",
    "    if runs[percent25 - 1] >= 28 and runs[percent50 - 1] >= 26:\n",
    "        #print(session, 'valid-both', len(results), runs[percent25 - 1], runs[percent50 - 1])\n",
    "        pass\n",
    "\n",
    "    if runs[percent50 - 1]:\n",
    "        if runs[percent25 - 1] >= 28:\n",
    "            #print(session, 'valid-25', len(results), runs[percent25 - 1], runs[percent50 - 1])\n",
    "            pass\n",
    "        elif runs[percent50 - 1] >= 26:\n",
    "            print(session, 'valid-50', len(results), runs[percent25 - 1], runs[percent50 - 1])\n",
    "            pass\n",
    "        else:\n",
    "            #print(session, 'invalid', len(results), runs[percent25 - 1], runs[percent50 - 1])\n",
    "            pass\n",
    "\n",
    "    if runs[percent25 - 1]:\n",
    "        if runs[percent50 - 1] >= 26:\n",
    "            #print(session, 'valid-50', len(results), runs[percent25 - 1], runs[percent50 - 1])\n",
    "            pass\n",
    "        elif runs[percent25 - 1] >= 28:\n",
    "            print(session, 'valid-25', len(results), runs[percent25 - 1], runs[percent50 - 1])\n",
    "        else:\n",
    "            #print(session, 'invalid', len(results), runs[percent25 - 1], runs[percent50 - 1])\n",
    "            pass"
   ]
  },
  {
   "cell_type": "code",
   "execution_count": 4,
   "metadata": {},
   "outputs": [],
   "source": [
    "def processSession(year, csvFile):\n",
    "    '''processSession processes an individual session for an event'''\n",
    "\n",
    "    session = os.path.basename(os.path.dirname(csvFile))\n",
    "    \n",
    "    RUN_2_KTS = 'Run 2 (kts)'\n",
    "    AVG_KTS = 'Avg (kts)'\n",
    "    STATUS = 'Status'\n",
    "\n",
    "    results = []\n",
    "    with open(csvFile, 'r', encoding='utf-8') as f:\n",
    "        csvReader = csv.DictReader(f)\n",
    "        for result in csvReader:\n",
    "            results.append(result)\n",
    "\n",
    "    allRuns = []\n",
    "    for result in results:\n",
    "        try:\n",
    "            allRuns.append(float(result[RUN_2_KTS]))\n",
    "        except ValueError:\n",
    "            allRuns.append(0)\n",
    "            \n",
    "    allRuns = sorted(allRuns, reverse=True)\n",
    "            \n",
    "    percent25 = math.ceil(len(allRuns) / 4)\n",
    "    percent50 = math.ceil(len(allRuns) / 2)\n",
    "    \n",
    "    if allRuns[percent25 - 1] >= 28: # or allRuns[percent50 - 1] >= 26:\n",
    "        oldRule = True\n",
    "    else:\n",
    "        oldRule = False\n",
    "\n",
    "    silverRuns = []\n",
    "    for result in results:\n",
    "        if 'gold' in result[STATUS].lower() or 'pro' in result[STATUS].lower():\n",
    "            try:\n",
    "                silverRuns.append(float(result[RUN_2_KTS]))\n",
    "            except ValueError:\n",
    "                silverRuns.append(0)\n",
    "\n",
    "    if len(silverRuns) > 0:\n",
    "        silverRuns = sorted(silverRuns, reverse=True)\n",
    "\n",
    "        percent25 = math.ceil(len(silverRuns) / 4)\n",
    "        percent50 = math.ceil(len(silverRuns) / 2)\n",
    "\n",
    "        if silverRuns[percent25 - 1] >= 28 or silverRuns[percent50 - 1] >= 26:\n",
    "            newRule = True\n",
    "        else:\n",
    "            newRule = False\n",
    "\n",
    "        link = '[{}](https://logiqx.github.io/wsw-results/results/{}/{}/ukwa.html)'.format(session, session[:4], session)\n",
    "        \n",
    "        if oldRule == True and newRule == False:\n",
    "            #print('-', link, 'new rules deficient', len(results), silverRuns[percent25 - 1], silverRuns[percent50 - 1])\n",
    "            pass\n",
    "\n",
    "        if oldRule == False and newRule == True:\n",
    "            #print('-', link, 'new rules help', len(results), silverRuns[percent25 - 1], silverRuns[percent50 - 1])\n",
    "            pass\n",
    "\n",
    "        if oldRule == True:\n",
    "            print('-', link, len(results), silverRuns[percent25 - 1], silverRuns[percent50 - 1])\n",
    "            pass"
   ]
  },
  {
   "cell_type": "code",
   "execution_count": 5,
   "metadata": {},
   "outputs": [],
   "source": [
    "def processEvent(year):\n",
    "    '''processYear processes all of the sessions for an event'''\n",
    "\n",
    "    csvFiles = sorted(glob.glob(os.path.join(PROJDIR, 'events', str(year), 'sailwave', '*', '*Men*.csv')))\n",
    "    \n",
    "    for csvFile in csvFiles:\n",
    "        if \"Wing\" not in csvFile:\n",
    "            processSession(year, csvFile)"
   ]
  },
  {
   "cell_type": "code",
   "execution_count": 6,
   "metadata": {},
   "outputs": [
    {
     "name": "stdout",
     "output_type": "stream",
     "text": [
      "- [20101019](https://logiqx.github.io/wsw-results/results/2010/20101019/ukwa.html) 32 29.61 27.42\n",
      "- [20111017](https://logiqx.github.io/wsw-results/results/2011/20111017/ukwa.html) 33 32.93 31.28\n",
      "- [20111018](https://logiqx.github.io/wsw-results/results/2011/20111018/ukwa.html) 24 29.5 28.98\n",
      "- [20121010](https://logiqx.github.io/wsw-results/results/2012/20121010/ukwa.html) 18 30.11 27.67\n",
      "- [20121012](https://logiqx.github.io/wsw-results/results/2012/20121012/ukwa.html) 24 28.25 25.85\n",
      "- [20131016](https://logiqx.github.io/wsw-results/results/2013/20131016/ukwa.html) 28 30.26 28.96\n",
      "- [20131018](https://logiqx.github.io/wsw-results/results/2013/20131018/ukwa.html) 10 31.48 29.25\n",
      "- [20141019](https://logiqx.github.io/wsw-results/results/2014/20141019/ukwa.html) 22 30.67 29.05\n",
      "- [20141019](https://logiqx.github.io/wsw-results/results/2014/20141019/ukwa.html) 24 31.59 29.49\n",
      "- [20141020](https://logiqx.github.io/wsw-results/results/2014/20141020/ukwa.html) 15 31.07 29.3\n",
      "- [20141020](https://logiqx.github.io/wsw-results/results/2014/20141020/ukwa.html) 15 31.41 29.59\n",
      "- [20141021](https://logiqx.github.io/wsw-results/results/2014/20141021/ukwa.html) 14 31.55 29.43\n",
      "- [20141021](https://logiqx.github.io/wsw-results/results/2014/20141021/ukwa.html) 14 31.72 29.78\n",
      "- [20141023](https://logiqx.github.io/wsw-results/results/2014/20141023/ukwa.html) 18 29.99 28.57\n",
      "- [20141023](https://logiqx.github.io/wsw-results/results/2014/20141023/ukwa.html) 19 31.32 30.0\n",
      "- [20151005](https://logiqx.github.io/wsw-results/results/2015/20151005/ukwa.html) 25 30.03 27.46\n",
      "- [20151007](https://logiqx.github.io/wsw-results/results/2015/20151007/ukwa.html) 26 30.75 29.2\n",
      "- [20151007](https://logiqx.github.io/wsw-results/results/2015/20151007/ukwa.html) 10 30.09 29.56\n",
      "- [20161013](https://logiqx.github.io/wsw-results/results/2016/20161013/ukwa.html) 24 28.24 26.91\n",
      "- [20171016](https://logiqx.github.io/wsw-results/results/2017/20171016/ukwa.html) 21 33.49 31.36\n",
      "- [20171016](https://logiqx.github.io/wsw-results/results/2017/20171016/ukwa.html) 23 34.36 33.65\n",
      "- [20171019](https://logiqx.github.io/wsw-results/results/2017/20171019/ukwa.html) 17 28.65 27.8\n",
      "- [20171020](https://logiqx.github.io/wsw-results/results/2017/20171020/ukwa.html) 15 33.88 32.15\n",
      "- [20181013](https://logiqx.github.io/wsw-results/results/2018/20181013/ukwa.html) 25 30.73 28.42\n",
      "- [20181013](https://logiqx.github.io/wsw-results/results/2018/20181013/ukwa.html) 25 32.57 29.77\n",
      "- [20181014](https://logiqx.github.io/wsw-results/results/2018/20181014/ukwa.html) 18 30.42 28.32\n",
      "- [20181015](https://logiqx.github.io/wsw-results/results/2018/20181015/ukwa.html) 18 30.32 28.82\n",
      "- [20181018](https://logiqx.github.io/wsw-results/results/2018/20181018/ukwa.html) 19 28.6 27.22\n",
      "- [20191006](https://logiqx.github.io/wsw-results/results/2019/20191006/ukwa.html) 19 31.67 29.16\n",
      "- [20191006](https://logiqx.github.io/wsw-results/results/2019/20191006/ukwa.html) 18 33.19 30.9\n",
      "- [20191007](https://logiqx.github.io/wsw-results/results/2019/20191007/ukwa.html) 9 33.75 33.29\n",
      "- [20191007](https://logiqx.github.io/wsw-results/results/2019/20191007/ukwa.html) 9 33.97 31.55\n",
      "- [20191008](https://logiqx.github.io/wsw-results/results/2019/20191008/ukwa.html) 19 32.65 29.97\n",
      "- [20191008](https://logiqx.github.io/wsw-results/results/2019/20191008/ukwa.html) 20 34.23 30.88\n",
      "- [20191009](https://logiqx.github.io/wsw-results/results/2019/20191009/ukwa.html) 11 32.59 32.19\n",
      "- [20191009](https://logiqx.github.io/wsw-results/results/2019/20191009/ukwa.html) 19 33.1 30.21\n",
      "- [20191010](https://logiqx.github.io/wsw-results/results/2019/20191010/ukwa.html) 12 32.44 30.27\n",
      "- [20191010](https://logiqx.github.io/wsw-results/results/2019/20191010/ukwa.html) 18 32.32 30.62\n",
      "- [20191011](https://logiqx.github.io/wsw-results/results/2019/20191011/ukwa.html) 17 35.74 32.82\n",
      "- [20191011](https://logiqx.github.io/wsw-results/results/2019/20191011/ukwa.html) 16 36.37 34.5\n",
      "- [20221015](https://logiqx.github.io/wsw-results/results/2022/20221015/ukwa.html) 31 31.94 29.61\n",
      "- [20221015](https://logiqx.github.io/wsw-results/results/2022/20221015/ukwa.html) 34 33.48 30.21\n",
      "- [20221019](https://logiqx.github.io/wsw-results/results/2022/20221019/ukwa.html) 11 30.91 26.02\n",
      "- [20221019](https://logiqx.github.io/wsw-results/results/2022/20221019/ukwa.html) 12 29.24 26.61\n",
      "- [20221021](https://logiqx.github.io/wsw-results/results/2022/20221021/ukwa.html) 8 34.77 30.85\n",
      "- [20221021](https://logiqx.github.io/wsw-results/results/2022/20221021/ukwa.html) 12 31.34 29.71\n",
      "- [20231012](https://logiqx.github.io/wsw-results/results/2023/20231012/ukwa.html) 14 29.53 26.93\n",
      "- [20231013](https://logiqx.github.io/wsw-results/results/2023/20231013/ukwa.html) 28 31.46 29.63\n",
      "- [20231013](https://logiqx.github.io/wsw-results/results/2023/20231013/ukwa.html) 28 33.06 30.62\n",
      "All done\n"
     ]
    }
   ],
   "source": [
    "def main():\n",
    "    for year in range(2000, 2050):\n",
    "        processEvent(year)\n",
    "      \n",
    "    print('All done')\n",
    "\n",
    "if __name__ == '__main__':\n",
    "    main()"
   ]
  },
  {
   "cell_type": "markdown",
   "metadata": {
    "collapsed": true
   },
   "source": [
    "## All Done!"
   ]
  }
 ],
 "metadata": {
  "kernelspec": {
   "display_name": "Python 3 (ipykernel)",
   "language": "python",
   "name": "python3"
  },
  "language_info": {
   "codemirror_mode": {
    "name": "ipython",
    "version": 3
   },
   "file_extension": ".py",
   "mimetype": "text/x-python",
   "name": "python",
   "nbconvert_exporter": "python",
   "pygments_lexer": "ipython3",
   "version": "3.9.7"
  }
 },
 "nbformat": 4,
 "nbformat_minor": 1
}
