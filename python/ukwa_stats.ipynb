{
 "cells": [
  {
   "cell_type": "markdown",
   "metadata": {},
   "source": [
    "# UKWA Stats Module\n",
    "\n",
    "Copyright 2023 Michael George (AKA Logiqx).\n",
    "\n",
    "This file is part of [wsw-results](https://github.com/Logiqx/wsw-results) and is distributed under the terms of the GNU General Public License.\n",
    "\n",
    "wsw-results is free software: you can redistribute it and/or modify it under the terms of the GNU General Public License as published by the Free Software Foundation, either version 3 of the License, or (at your option) any later version.\n",
    "\n",
    "wsw-results is distributed in the hope that it will be useful, but WITHOUT ANY WARRANTY; without even the implied warranty of MERCHANTABILITY or FITNESS FOR A PARTICULAR PURPOSE. See the GNU General Public License for more details.\n",
    "\n",
    "You should have received a copy of the GNU General Public License along with sse-results. If not, see <https://www.gnu.org/licenses/>."
   ]
  },
  {
   "cell_type": "markdown",
   "metadata": {},
   "source": [
    "### Summary\n",
    "\n",
    "Adhoc script to determine the correctness of UKWA flags in the current year"
   ]
  },
  {
   "cell_type": "markdown",
   "metadata": {},
   "source": [
    "## Initialisation\n",
    "\n",
    "Basic approach to determine the project directory"
   ]
  },
  {
   "cell_type": "code",
   "execution_count": 1,
   "metadata": {},
   "outputs": [],
   "source": [
    "import os\n",
    "import sys\n",
    "import glob\n",
    "\n",
    "import csv\n",
    "import math\n",
    "\n",
    "import numpy as np\n",
    "\n",
    "from datetime import datetime"
   ]
  },
  {
   "cell_type": "code",
   "execution_count": 2,
   "metadata": {},
   "outputs": [],
   "source": [
    "PROJDIR = os.path.realpath(os.path.join(sys.path[0], '..'))"
   ]
  },
  {
   "cell_type": "markdown",
   "metadata": {},
   "source": [
    "## Process Entrants\n",
    "\n",
    "Process all names"
   ]
  },
  {
   "cell_type": "code",
   "execution_count": 3,
   "metadata": {},
   "outputs": [],
   "source": [
    "def processSession(year, csvFile):\n",
    "    '''processSession processes an individual session for an event'''\n",
    "\n",
    "    session = os.path.basename(os.path.dirname(csvFile))\n",
    "    \n",
    "    RUN_2_KTS = 'Run 2 (kts)'\n",
    "    AVG_KTS = 'Avg (kts)'\n",
    "\n",
    "    results = []\n",
    "    runs = []\n",
    "    averages = []\n",
    "    with open(csvFile, 'r', encoding='utf-8') as f:\n",
    "        csvReader = csv.DictReader(f)\n",
    "        for result in csvReader:\n",
    "            results.append(result)\n",
    "            try:\n",
    "                runs.append(float(result[RUN_2_KTS]))\n",
    "            except ValueError:\n",
    "                runs.append(0)\n",
    "            averages.append(float(result[AVG_KTS]))\n",
    "            \n",
    "    runs = sorted(runs, reverse=True)\n",
    "            \n",
    "    percent25 = math.ceil(len(runs) / 4)\n",
    "    percent50 = math.ceil(len(runs) / 2)\n",
    "    \n",
    "    if runs[percent25 - 1] >= 28 and runs[percent50 - 1] >= 26:\n",
    "        #print(session, 'valid-both', len(results), runs[percent25 - 1], runs[percent50 - 1])\n",
    "        pass\n",
    "\n",
    "    if runs[percent50 - 1]:\n",
    "        if runs[percent25 - 1] >= 28:\n",
    "            #print(session, 'valid-25', len(results), runs[percent25 - 1], runs[percent50 - 1])\n",
    "            pass\n",
    "        elif runs[percent50 - 1] >= 26:\n",
    "            print(session, 'valid-50', len(results), runs[percent25 - 1], runs[percent50 - 1])\n",
    "            pass\n",
    "        else:\n",
    "            #print(session, 'invalid', len(results), runs[percent25 - 1], runs[percent50 - 1])\n",
    "            pass\n",
    "\n",
    "    if runs[percent25 - 1]:\n",
    "        if runs[percent50 - 1] >= 26:\n",
    "            #print(session, 'valid-50', len(results), runs[percent25 - 1], runs[percent50 - 1])\n",
    "            pass\n",
    "        elif runs[percent25 - 1] >= 28:\n",
    "            print(session, 'valid-25', len(results), runs[percent25 - 1], runs[percent50 - 1])\n",
    "        else:\n",
    "            #print(session, 'invalid', len(results), runs[percent25 - 1], runs[percent50 - 1])\n",
    "            pass"
   ]
  },
  {
   "cell_type": "code",
   "execution_count": 4,
   "metadata": {},
   "outputs": [],
   "source": [
    "def processEvent(year):\n",
    "    '''processYear processes all of the sessions for an event'''\n",
    "\n",
    "    csvFiles = sorted(glob.glob(os.path.join(PROJDIR, 'events', str(year), 'sailwave', '*', '*Men*.csv')))\n",
    "    \n",
    "    for csvFile in csvFiles:\n",
    "        if \"Wing\" not in csvFile:\n",
    "            processSession(year, csvFile)"
   ]
  },
  {
   "cell_type": "code",
   "execution_count": 5,
   "metadata": {},
   "outputs": [
    {
     "name": "stdout",
     "output_type": "stream",
     "text": [
      "20111019 valid-50 18 26.42 26.09\n",
      "20121012 valid-25 24 28.12 25.34\n",
      "20151005 valid-50 24 27.51 26.04\n",
      "20181013 valid-25 25 28.95 25.62\n",
      "20181018 valid-25 19 28.32 25.76\n",
      "20221019 valid-25 11 30.28 22.86\n",
      "20231011 valid-50 25 27.51 26.25\n",
      "All done\n"
     ]
    }
   ],
   "source": [
    "def main():\n",
    "    for year in range(2000, 2050):\n",
    "        processEvent(year)\n",
    "      \n",
    "    print('All done')\n",
    "\n",
    "if __name__ == '__main__':\n",
    "    main()"
   ]
  },
  {
   "cell_type": "markdown",
   "metadata": {
    "collapsed": true
   },
   "source": [
    "## All Done!"
   ]
  }
 ],
 "metadata": {
  "kernelspec": {
   "display_name": "Python 3 (ipykernel)",
   "language": "python",
   "name": "python3"
  },
  "language_info": {
   "codemirror_mode": {
    "name": "ipython",
    "version": 3
   },
   "file_extension": ".py",
   "mimetype": "text/x-python",
   "name": "python",
   "nbconvert_exporter": "python",
   "pygments_lexer": "ipython3",
   "version": "3.9.7"
  }
 },
 "nbformat": 4,
 "nbformat_minor": 1
}
