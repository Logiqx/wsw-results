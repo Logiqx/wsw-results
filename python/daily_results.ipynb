{
 "cells": [
  {
   "cell_type": "markdown",
   "metadata": {},
   "source": [
    "# Daily Results"
   ]
  },
  {
   "cell_type": "markdown",
   "metadata": {},
   "source": [
    "## Initialisation\n",
    "\n",
    "Basic approach to determine the project directory"
   ]
  },
  {
   "cell_type": "code",
   "execution_count": 1,
   "metadata": {},
   "outputs": [],
   "source": [
    "import os\n",
    "import glob\n",
    "\n",
    "from datetime import datetime\n",
    "import time\n",
    "\n",
    "import csv\n",
    "import json\n",
    "\n",
    "from common import Printable, projdir\n",
    "\n",
    "from event import Event\n",
    "\n",
    "from constants import *"
   ]
  },
  {
   "cell_type": "code",
   "execution_count": 2,
   "metadata": {},
   "outputs": [],
   "source": [
    "try:\n",
    "    wsw_full_refresh = int(os.environ['WSW_FULL_REFRESH'])\n",
    "except:\n",
    "    wsw_full_refresh = 1"
   ]
  },
  {
   "cell_type": "markdown",
   "metadata": {},
   "source": [
    "## Process Years\n",
    "\n",
    "Process all available years"
   ]
  },
  {
   "cell_type": "code",
   "execution_count": 3,
   "metadata": {},
   "outputs": [],
   "source": [
    "pc1 = time.perf_counter()"
   ]
  },
  {
   "cell_type": "code",
   "execution_count": 4,
   "metadata": {},
   "outputs": [],
   "source": [
    "# Read main config\n",
    "filename = os.path.join(projdir, CONFIG_DIR, CONFIG_JSON)\n",
    "with open(filename, 'r', encoding='utf-8') as f:\n",
    "    jsonTxt = f.read()\n",
    "    appConfig = json.loads(jsonTxt)"
   ]
  },
  {
   "cell_type": "code",
   "execution_count": 5,
   "metadata": {},
   "outputs": [
    {
     "name": "stdout",
     "output_type": "stream",
     "text": [
      "Processing 2010...\n",
      "All done!\n",
      "\n",
      "Processing 2011...\n",
      "All done!\n",
      "\n",
      "Processing 2012...\n",
      "All done!\n",
      "\n",
      "Processing 2013...\n",
      "All done!\n",
      "\n",
      "Processing 2014...\n",
      "All done!\n",
      "\n",
      "Processing 2015...\n",
      "All done!\n",
      "\n",
      "Processing 2016...\n",
      "All done!\n",
      "\n",
      "Processing 2017...\n",
      "WARNING: Runs found after course S1 closed on 20171016 - latest was 17:00:36\n",
      "All done!\n",
      "\n",
      "Processing 2018...\n",
      "All done!\n",
      "\n",
      "Processing 2019...\n",
      "WARNING: Unrecognised GT-31 ID on 20191010 - COOK72SHAUN\n",
      "WARNING: Unrecognised GT-31 ID on 20191010 - GERRY71NORTH\n",
      "WARNING: Unrecognised GT-31 ID on 20191010 - WHEAL73TIM\n",
      "WARNING: Unrecognised GT-31 ID on 20191011 - CHIPP74SIMON\n",
      "All done!\n",
      "\n",
      "Processing 2021...\n",
      "WARNING: Runs found after course S1 closed on 20211014 - latest was 17:51:14\n",
      "All done!\n",
      "\n"
     ]
    }
   ],
   "source": [
    "# Process all events - 2010 onwards\n",
    "eventPaths = sorted(glob.glob(os.path.join(projdir, EVENTS_DIR, '20[0-9][0-9]')))\n",
    "year = datetime.now().year\n",
    "for eventPath in eventPaths:\n",
    "    if int(os.path.basename(eventPath)) <= year:\n",
    "        if int(os.path.basename(eventPath)) == year or wsw_full_refresh:\n",
    "            event = Event(eventPath, appConfig, verbosity=1)\n",
    "            event.processEvent()"
   ]
  },
  {
   "cell_type": "code",
   "execution_count": 6,
   "metadata": {},
   "outputs": [
    {
     "name": "stdout",
     "output_type": "stream",
     "text": [
      "Reports completed in 0.72 seconds\n"
     ]
    }
   ],
   "source": [
    "pc2 = time.perf_counter()\n",
    "print(\"Reports completed in %0.2f seconds\" % (pc2 - pc1))"
   ]
  },
  {
   "cell_type": "markdown",
   "metadata": {
    "collapsed": true
   },
   "source": [
    "## All Done!"
   ]
  }
 ],
 "metadata": {
  "kernelspec": {
   "display_name": "Python 3",
   "language": "python",
   "name": "python3"
  },
  "language_info": {
   "codemirror_mode": {
    "name": "ipython",
    "version": 3
   },
   "file_extension": ".py",
   "mimetype": "text/x-python",
   "name": "python",
   "nbconvert_exporter": "python",
   "pygments_lexer": "ipython3",
   "version": "3.8.8"
  }
 },
 "nbformat": 4,
 "nbformat_minor": 1
}
