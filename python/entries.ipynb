{
 "cells": [
  {
   "cell_type": "markdown",
   "metadata": {},
   "source": [
    "# Entries Module\n",
    "\n",
    "Copyright 2023 Michael George (AKA Logiqx).\n",
    "\n",
    "This file is part of [wsw-results](https://github.com/Logiqx/wsw-results) and is distributed under the terms of the GNU General Public License.\n",
    "\n",
    "wsw-results is free software: you can redistribute it and/or modify it under the terms of the GNU General Public License as published by the Free Software Foundation, either version 3 of the License, or (at your option) any later version.\n",
    "\n",
    "wsw-results is distributed in the hope that it will be useful, but WITHOUT ANY WARRANTY; without even the implied warranty of MERCHANTABILITY or FITNESS FOR A PARTICULAR PURPOSE. See the GNU General Public License for more details.\n",
    "\n",
    "You should have received a copy of the GNU General Public License along with sse-results. If not, see <https://www.gnu.org/licenses/>."
   ]
  },
  {
   "cell_type": "markdown",
   "metadata": {},
   "source": [
    "### Summary\n",
    "\n",
    "Adhoc script to determine the correctness of UKWA flags in the current year"
   ]
  },
  {
   "cell_type": "markdown",
   "metadata": {},
   "source": [
    "## Initialisation\n",
    "\n",
    "Basic approach to determine the project directory"
   ]
  },
  {
   "cell_type": "code",
   "execution_count": 1,
   "metadata": {},
   "outputs": [],
   "source": [
    "import os\n",
    "import sys\n",
    "import json\n",
    "import csv\n",
    "\n",
    "from datetime import datetime\n",
    "\n",
    "from name import Name\n",
    "from fuzzy import FuzzyMatch\n",
    "\n",
    "import re"
   ]
  },
  {
   "cell_type": "code",
   "execution_count": 2,
   "metadata": {},
   "outputs": [],
   "source": [
    "PROJDIR = os.path.realpath(os.path.join(sys.path[0], '..'))"
   ]
  },
  {
   "cell_type": "markdown",
   "metadata": {},
   "source": [
    "## Process Entrants\n",
    "\n",
    "Process all names"
   ]
  },
  {
   "cell_type": "code",
   "execution_count": 3,
   "metadata": {},
   "outputs": [],
   "source": [
    "def loadConfig(year, configFile):\n",
    "    '''loadConfig reads entries config (JSON) into a dictionary'''\n",
    "\n",
    "    jsonPath = os.path.join(PROJDIR, 'events', str(year), 'config', configFile)\n",
    "\n",
    "    with open(jsonPath, 'r', encoding='utf-8') as f:\n",
    "        jsonTxt = f.read()\n",
    "        config = json.loads(jsonTxt)\n",
    "        \n",
    "    return config"
   ]
  },
  {
   "cell_type": "code",
   "execution_count": 4,
   "metadata": {},
   "outputs": [],
   "source": [
    "def loadEntries(year):\n",
    "    '''loadEntries reads WSW entries into a list'''\n",
    "\n",
    "    csvPath = os.path.join(PROJDIR, 'events', str(year), 'config', 'entries.csv')\n",
    "\n",
    "    entrants = []\n",
    "    with open(csvPath, 'r', encoding='utf-8') as f:\n",
    "        csvReader = csv.DictReader(f)\n",
    "        for entrant in csvReader:\n",
    "            entrants.append(entrant)\n",
    "\n",
    "    return entrants"
   ]
  },
  {
   "cell_type": "code",
   "execution_count": 5,
   "metadata": {},
   "outputs": [],
   "source": [
    "def loadEntrants(year):\n",
    "    '''loadEntrants reads WSW entrants into a list'''\n",
    "\n",
    "    csvPath = os.path.join(PROJDIR, 'events', str(year), 'config', 'entrants.csv')\n",
    "\n",
    "    entrants = []\n",
    "    with open(csvPath, 'r', encoding='utf-8') as f:\n",
    "        csvReader = csv.DictReader(f)\n",
    "        for entrant in csvReader:\n",
    "            entrants.append(entrant)\n",
    "\n",
    "    return entrants"
   ]
  },
  {
   "cell_type": "code",
   "execution_count": 6,
   "metadata": {},
   "outputs": [],
   "source": [
    "def loadUkwaNames(year):\n",
    "    '''loadUkwaNames reads UKWA member names into a list'''\n",
    "\n",
    "    csvPath = os.path.join(PROJDIR, 'events', str(year), 'config', 'ukwa.csv')\n",
    "\n",
    "    entrants = []\n",
    "    with open(csvPath, 'r', encoding='utf-8') as f:\n",
    "        csvReader = csv.reader(f)\n",
    "        for entrant in csvReader:\n",
    "            name = Name(entrant[0])\n",
    "            entrants.append(name)\n",
    "            \n",
    "    return entrants"
   ]
  },
  {
   "cell_type": "code",
   "execution_count": 7,
   "metadata": {},
   "outputs": [],
   "source": [
    "def checkUkwaNames(entrants, memberNames, reportFuzzyMatch=False):\n",
    "    '''checkUkwaNames uses fuzzy name matching to check UKWA status'''\n",
    "\n",
    "    fuzzyMatch = FuzzyMatch()\n",
    "    \n",
    "    yes = []\n",
    "    no = []\n",
    "\n",
    "    fuzzy = 0\n",
    "    for entrant in entrants:\n",
    "        entrantName = Name(entrant['First Name'] + ' ' + entrant['Family Name'])\n",
    "        \n",
    "        match = None\n",
    "        for memberName in memberNames:\n",
    "            if fuzzyMatch.matchNameObjects(entrantName, memberName):\n",
    "                match = memberName\n",
    "                \n",
    "                if entrantName.name != memberName.name and reportFuzzyMatch:\n",
    "                    print('Fuzzy match detected {} (WSW) vs {} (UKWA)'.format(entrantName.name, memberName.name))\n",
    "                    fuzzy += 1\n",
    "                    \n",
    "        if  entrant['UKWA Member'][:1].upper() == 'N' and match and entrant['Craft Type'] in ['Sailboard', 'Wingboard']:\n",
    "            yes.append('{} ({}) - {}'.format(entrantName.name, entrant['ID'], entrant['Craft Type']))\n",
    "            \n",
    "        if entrant['UKWA Member'][:1].upper() == 'Y' and not (match and entrant['Craft Type'] in ['Sailboard', 'Wingboard']):\n",
    "            no.append('{} ({}) - {}'.format(entrantName.name, entrant['ID'], entrant['Craft Type']))\n",
    "\n",
    "    if fuzzy:\n",
    "        print()\n",
    "\n",
    "    if yes:\n",
    "        print('People who have not marked themselves as UKWA but are a member:')\n",
    "        for entrant in yes:\n",
    "            print(entrant)\n",
    "        print()\n",
    "\n",
    "    if no:\n",
    "        print('People who have marked themselves as UKWA but are NOT a member:')\n",
    "        for entrant in no:\n",
    "            print(entrant)\n",
    "        print()"
   ]
  },
  {
   "cell_type": "code",
   "execution_count": 8,
   "metadata": {},
   "outputs": [],
   "source": [
    "def checkFilters(entry, filters):\n",
    "    '''checkFilters determines whether the filters apply to the entry'''\n",
    "    \n",
    "    include = True\n",
    "    for filter in filters:\n",
    "        if entry[filter] != filters[filter]:\n",
    "            include = False\n",
    "            break\n",
    "                \n",
    "    return include"
   ]
  },
  {
   "cell_type": "code",
   "execution_count": 9,
   "metadata": {},
   "outputs": [],
   "source": [
    "def applyMappings(entry, entrant, mappings):\n",
    "    '''applyMappings populates entrant with data from entry via field mappings'''\n",
    "    \n",
    "    for mapping in mappings:\n",
    "        entrant[mapping] = entry[mappings[mapping]]"
   ]
  },
  {
   "cell_type": "code",
   "execution_count": 10,
   "metadata": {},
   "outputs": [],
   "source": [
    "def applyDerivations(entry, entrant, derivations):\n",
    "    '''applyDerivations populates entrant with data from entry via field derivations'''\n",
    "    \n",
    "    for derivation in derivations:\n",
    "        for value in derivations[derivation]:\n",
    "            filters = derivations[derivation][value]['Filters']\n",
    "            include = checkFilters(entry, filters)\n",
    "            if include:\n",
    "                entrant[derivation] = value\n",
    "                break"
   ]
  },
  {
   "cell_type": "code",
   "execution_count": 11,
   "metadata": {},
   "outputs": [],
   "source": [
    "def applyDefaults(entrant, defaults):\n",
    "    '''applyDefaults populates entrant with default values'''\n",
    "    \n",
    "    for default in defaults:\n",
    "        entrant[default] = defaults[default]"
   ]
  },
  {
   "cell_type": "code",
   "execution_count": 12,
   "metadata": {},
   "outputs": [],
   "source": [
    "def applyIdOffset(entrant, idOffset):\n",
    "    '''applyIdOffset ensures that different craft use different ranges of IDs'''\n",
    "    \n",
    "    entrant['ID'] = int(entrant['ID']) + idOffset"
   ]
  },
  {
   "cell_type": "code",
   "execution_count": 13,
   "metadata": {},
   "outputs": [],
   "source": [
    "def applyMotionId(entry, entrant, motionId):\n",
    "    '''applyMotionId extracts the motion ID from the text string'''\n",
    "    \n",
    "    entrant['Entrant ID'] = entrant['ID']\n",
    "\n",
    "    sep = '-'\n",
    "    if sep in entry[motionId]:\n",
    "        value = entry[motionId].split(sep)[-1].strip()\n",
    "    else:\n",
    "        value = 0\n",
    "\n",
    "    entrant['Motion ID'] = value\n",
    "\n",
    "    familyName = ''.join(re.findall(\"[a-zA-Z]+\", entrant['Family Name']))\n",
    "    firstName = ''.join(re.findall(\"[a-zA-Z]+\", entrant['First Name']))\n",
    "\n",
    "    entrant['File ID'] = '{}{}{}'.format(familyName[:3].upper(), value, firstName[:3].upper())"
   ]
  },
  {
   "cell_type": "code",
   "execution_count": 14,
   "metadata": {},
   "outputs": [],
   "source": [
    "def processCraftTypes(entry, template, craftTypes, entrants):\n",
    "    '''processCraftTypes creates individual entrants for each craft type'''\n",
    "    \n",
    "    for craftType in craftTypes:\n",
    "        filters = craftType['Filters']\n",
    "        include = checkFilters(entry, filters)\n",
    "\n",
    "        if include:\n",
    "            entrant = template.copy()\n",
    "\n",
    "            defaults = craftType['Defaults']\n",
    "            applyDefaults(entrant, defaults)\n",
    "\n",
    "            mappings = craftType['Mappings']\n",
    "            applyMappings(entry, entrant, mappings)\n",
    "\n",
    "            idOffset = craftType['ID Offset']\n",
    "            applyIdOffset(entrant, idOffset)\n",
    "\n",
    "            motionId = craftType['Motion ID']\n",
    "            applyMotionId(entry, entrant, motionId)\n",
    "            \n",
    "            entrants.append(entrant)"
   ]
  },
  {
   "cell_type": "code",
   "execution_count": 15,
   "metadata": {},
   "outputs": [],
   "source": [
    "def getEntrants(entries, entriesConfig, eventConfig):\n",
    "    '''getEntrants converts entries into list of entrants'''\n",
    "\n",
    "    entrants = []\n",
    "    \n",
    "    startDate = eventConfig['Event']['Start Date']\n",
    "    endDate = eventConfig['Event']['End Date']\n",
    "\n",
    "    for entry in entries:\n",
    "        filters = entriesConfig['Filters']\n",
    "        include = checkFilters(entry, filters)\n",
    "        \n",
    "        if include:\n",
    "            entrant = {}\n",
    "            \n",
    "            entrant['Start Date'] = startDate\n",
    "            entrant['End Date'] = endDate\n",
    "\n",
    "            defaults = entriesConfig['Defaults']\n",
    "            applyDefaults(entrant, defaults)\n",
    "            \n",
    "            mappings = entriesConfig['Mappings']\n",
    "            applyMappings(entry, entrant, mappings)\n",
    "\n",
    "            derivations = entriesConfig['Derivations']\n",
    "            applyDerivations(entry, entrant, derivations)\n",
    "            \n",
    "            craftTypes = entriesConfig['Craft Types']\n",
    "            processCraftTypes(entry, entrant, craftTypes, entrants)\n",
    "            \n",
    "    return entrants"
   ]
  },
  {
   "cell_type": "code",
   "execution_count": 16,
   "metadata": {},
   "outputs": [],
   "source": [
    "def saveOutputs(year, entrants, entriesConfig):\n",
    "    '''saveOutputs generates the final CSV files'''\n",
    "    \n",
    "    for output in entriesConfig['Outputs']:\n",
    "        file = output['File']\n",
    "        csvPath = os.path.join(PROJDIR, 'events', str(year), 'config', file)\n",
    "\n",
    "        with open(csvPath, 'w', encoding='utf-8') as outfile:\n",
    "            csvWriter = csv.writer(outfile, quoting=csv.QUOTE_MINIMAL, lineterminator=os.linesep)\n",
    "\n",
    "            fields = output['Fields']\n",
    "            csvWriter.writerow(fields)\n",
    "\n",
    "            for entrant in entrants:\n",
    "                row = []\n",
    "\n",
    "                for field in fields:\n",
    "                    if field in entrant:\n",
    "                        row.append(entrant[field])\n",
    "                    else:\n",
    "                        row.append('')\n",
    "                \n",
    "                csvWriter.writerow(row)"
   ]
  },
  {
   "cell_type": "code",
   "execution_count": 17,
   "metadata": {},
   "outputs": [
    {
     "name": "stdout",
     "output_type": "stream",
     "text": [
      "People who have marked themselves as UKWA but are NOT a member:\n",
      "Andrew Twinn (1194) - Sailboard\n",
      "Spenser Arnold (1220) - Sailboard\n",
      "Paul Arnold (1228) - Sailboard\n",
      "Joe Adams (3229) - Wingboard\n",
      "\n",
      "72 entrants processed\n"
     ]
    }
   ],
   "source": [
    "def main():\n",
    "    year = datetime.today().year\n",
    "    \n",
    "    eventConfig = loadConfig(year, 'event.json')\n",
    "    entriesConfig = loadConfig(year, 'entries.json')\n",
    "    entries = loadEntries(year)\n",
    "    ukwaNames = loadUkwaNames(year)\n",
    "\n",
    "    entrants = getEntrants(entries, entriesConfig, eventConfig)\n",
    "    \n",
    "    checkUkwaNames(entrants, ukwaNames)\n",
    "    \n",
    "    saveOutputs(year, entrants, entriesConfig)\n",
    "    \n",
    "    print('{} entrants processed'.format(len(entrants)))\n",
    "\n",
    "if __name__ == '__main__':\n",
    "    main()"
   ]
  },
  {
   "cell_type": "markdown",
   "metadata": {
    "collapsed": true
   },
   "source": [
    "## All Done!"
   ]
  }
 ],
 "metadata": {
  "kernelspec": {
   "display_name": "Python 3 (ipykernel)",
   "language": "python",
   "name": "python3"
  },
  "language_info": {
   "codemirror_mode": {
    "name": "ipython",
    "version": 3
   },
   "file_extension": ".py",
   "mimetype": "text/x-python",
   "name": "python",
   "nbconvert_exporter": "python",
   "pygments_lexer": "ipython3",
   "version": "3.9.7"
  }
 },
 "nbformat": 4,
 "nbformat_minor": 1
}
