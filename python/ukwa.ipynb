{
 "cells": [
  {
   "cell_type": "markdown",
   "metadata": {},
   "source": [
    "# UKWA Module\n",
    "\n",
    "Copyright 2022 Michael George (AKA Logiqx).\n",
    "\n",
    "This file is part of [wsw-results](https://github.com/Logiqx/wsw-results) and is distributed under the terms of the GNU General Public License.\n",
    "\n",
    "sse-results is free software: you can redistribute it and/or modify it under the terms of the GNU General Public License as published by the Free Software Foundation, either version 3 of the License, or (at your option) any later version.\n",
    "\n",
    "sse-results is distributed in the hope that it will be useful, but WITHOUT ANY WARRANTY; without even the implied warranty of MERCHANTABILITY or FITNESS FOR A PARTICULAR PURPOSE. See the GNU General Public License for more details.\n",
    "\n",
    "You should have received a copy of the GNU General Public License along with sse-results. If not, see <https://www.gnu.org/licenses/>."
   ]
  },
  {
   "cell_type": "markdown",
   "metadata": {},
   "source": [
    "### Summary\n",
    "\n",
    "Adhoc script to determine the correctness of UKWA flags in the current year"
   ]
  },
  {
   "cell_type": "markdown",
   "metadata": {},
   "source": [
    "## Initialisation\n",
    "\n",
    "Basic approach to determine the project directory"
   ]
  },
  {
   "cell_type": "code",
   "execution_count": 1,
   "metadata": {},
   "outputs": [],
   "source": [
    "import os\n",
    "import sys\n",
    "import csv\n",
    "\n",
    "from datetime import datetime\n",
    "\n",
    "from name import Name\n",
    "from fuzzy import FuzzyMatch"
   ]
  },
  {
   "cell_type": "code",
   "execution_count": 2,
   "metadata": {},
   "outputs": [],
   "source": [
    "PROJDIR = os.path.realpath(os.path.join(sys.path[0], '..'))"
   ]
  },
  {
   "cell_type": "markdown",
   "metadata": {},
   "source": [
    "## Process Names\n",
    "\n",
    "Process all names"
   ]
  },
  {
   "cell_type": "code",
   "execution_count": 3,
   "metadata": {},
   "outputs": [],
   "source": [
    "def loadEntrants(year):\n",
    "\n",
    "    csvPath = os.path.join(PROJDIR, 'events', str(year), 'config', 'entrants.csv')\n",
    "\n",
    "    entrants = []\n",
    "    with open(csvPath, 'r', encoding='utf-8') as f:\n",
    "        csvReader = csv.DictReader(f)\n",
    "        for entrant in csvReader:\n",
    "            entrants.append(entrant)\n",
    "\n",
    "    return entrants"
   ]
  },
  {
   "cell_type": "code",
   "execution_count": 4,
   "metadata": {},
   "outputs": [],
   "source": [
    "def loadMembers(year):\n",
    "\n",
    "    csvPath = os.path.join(PROJDIR, 'events', str(year), 'config', 'ukwa.csv')\n",
    "\n",
    "    entrants = []\n",
    "    with open(csvPath, 'r', encoding='utf-8') as f:\n",
    "        csvReader = csv.reader(f)\n",
    "        for entrant in csvReader:\n",
    "            name = Name(entrant[0])\n",
    "            entrants.append(name)\n",
    "            \n",
    "    return entrants"
   ]
  },
  {
   "cell_type": "code",
   "execution_count": 5,
   "metadata": {},
   "outputs": [],
   "source": [
    "def checkEntrants(entrants, memberNames):\n",
    "\n",
    "    fuzzyMatch = FuzzyMatch()\n",
    "    \n",
    "    yes = []\n",
    "    no = []\n",
    "\n",
    "    fuzzy = 0\n",
    "    for entrant in entrants:\n",
    "        entrantName = Name(entrant['First Name'] + ' ' + entrant['Family Name'])\n",
    "        \n",
    "        match = None\n",
    "        for memberName in memberNames:\n",
    "            if fuzzyMatch.matchNameObjects(entrantName, memberName):\n",
    "                match = memberName\n",
    "                \n",
    "                if entrantName.name != memberName.name:\n",
    "                    print('Fuzzy match detected {} vs {}'.format(entrantName.name, memberName.name))\n",
    "                    fuzzy += 1\n",
    "                    \n",
    "        if  entrant['UKWA Member'].upper() == 'N' and match and entrant['Craft Type'] in ['Sailboard', 'Wingboard']:\n",
    "            yes.append('{} ({}) - {}'.format(entrantName.name, entrant['ID'], entrant['Craft Type']))\n",
    "            \n",
    "        if entrant['UKWA Member'].upper() == 'Y' and not (match and entrant['Craft Type'] in ['Sailboard', 'Wingboard']):\n",
    "            no.append('{} ({}) - {}'.format(entrantName.name, entrant['ID'], entrant['Craft Type']))\n",
    "\n",
    "    if fuzzy:\n",
    "        print()\n",
    "\n",
    "    if yes:\n",
    "        print('People who have not marked themselves as UKWA but are a member:')\n",
    "        for entrant in yes:\n",
    "            print(entrant)\n",
    "        print()\n",
    "\n",
    "    if no:\n",
    "        print('People who have marked themselves as UKWA but are NOT a member:')\n",
    "        for entrant in no:\n",
    "            print(entrant)\n",
    "        print()"
   ]
  },
  {
   "cell_type": "code",
   "execution_count": 6,
   "metadata": {},
   "outputs": [
    {
     "name": "stdout",
     "output_type": "stream",
     "text": [
      "Fuzzy match detected Kev Greenslade vs Kevin Greenslade\n",
      "Fuzzy match detected Nic Dodd vs Nicholas Dodd\n",
      "Fuzzy match detected Scotty Stallman vs Scott Stallman\n",
      "Fuzzy match detected Thomas Harrison vs thomas harrison\n",
      "Fuzzy match detected Will Trossell vs William Trossell\n",
      "\n",
      "People who have marked themselves as UKWA but are NOT a member:\n",
      "Finlay Chandler (28) - Wingboard\n",
      "Peter Martin (87) - Kiteboard\n",
      "\n"
     ]
    }
   ],
   "source": [
    "def main():\n",
    "    year = datetime.today().year\n",
    "    \n",
    "    entrants = loadEntrants(year)\n",
    "    memberNames = loadMembers(year)\n",
    "    \n",
    "    checkEntrants(entrants, memberNames)\n",
    "    \n",
    "\n",
    "if __name__ == '__main__':\n",
    "    main()"
   ]
  },
  {
   "cell_type": "markdown",
   "metadata": {
    "collapsed": true
   },
   "source": [
    "## All Done!"
   ]
  }
 ],
 "metadata": {
  "kernelspec": {
   "display_name": "Python 3 (ipykernel)",
   "language": "python",
   "name": "python3"
  },
  "language_info": {
   "codemirror_mode": {
    "name": "ipython",
    "version": 3
   },
   "file_extension": ".py",
   "mimetype": "text/x-python",
   "name": "python",
   "nbconvert_exporter": "python",
   "pygments_lexer": "ipython3",
   "version": "3.9.7"
  }
 },
 "nbformat": 4,
 "nbformat_minor": 1
}
