{
 "cells": [
  {
   "cell_type": "markdown",
   "metadata": {},
   "source": [
    "# Country Module"
   ]
  },
  {
   "cell_type": "markdown",
   "metadata": {},
   "source": [
    "## Initialisation\n",
    "\n",
    "Basic approach to determine the project directory"
   ]
  },
  {
   "cell_type": "code",
   "execution_count": 1,
   "metadata": {},
   "outputs": [],
   "source": [
    "import os\n",
    "import csv\n",
    "\n",
    "import unittest\n",
    "\n",
    "from common import Printable, testExit, projdir\n",
    "\n",
    "from constants import *"
   ]
  },
  {
   "cell_type": "markdown",
   "metadata": {},
   "source": [
    "## Load Countries into Memory\n",
    "\n",
    "Load countries into memory when the module is imported"
   ]
  },
  {
   "cell_type": "code",
   "execution_count": 2,
   "metadata": {},
   "outputs": [],
   "source": [
    "countryNames = {}\n",
    "countryAlpha2Codes = {}\n",
    "countryAlpha3Codes = {}\n",
    "\n",
    "csvPath = os.path.join(projdir, CONFIG_DIR, 'countries.csv')\n",
    "\n",
    "with open(csvPath, 'r', encoding='utf-8') as f:\n",
    "    csvReader = csv.DictReader(f)\n",
    "    for values in csvReader:\n",
    "        countryNames[values['Name']] = values\n",
    "        countryAlpha2Codes[values['Alpha-2 Code']] = values\n",
    "        countryAlpha3Codes[values['Alpha-3 Code']] = values"
   ]
  },
  {
   "cell_type": "markdown",
   "metadata": {
    "collapsed": true
   },
   "source": [
    "## All Done!"
   ]
  }
 ],
 "metadata": {
  "kernelspec": {
   "display_name": "Python 3 (ipykernel)",
   "language": "python",
   "name": "python3"
  },
  "language_info": {
   "codemirror_mode": {
    "name": "ipython",
    "version": 3
   },
   "file_extension": ".py",
   "mimetype": "text/x-python",
   "name": "python",
   "nbconvert_exporter": "python",
   "pygments_lexer": "ipython3",
   "version": "3.9.7"
  }
 },
 "nbformat": 4,
 "nbformat_minor": 1
}
