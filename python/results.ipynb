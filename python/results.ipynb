{
 "cells": [
  {
   "cell_type": "markdown",
   "metadata": {},
   "source": [
    "# WSW Results"
   ]
  },
  {
   "cell_type": "markdown",
   "metadata": {},
   "source": [
    "## Initialisation\n",
    "\n",
    "Basic approach to determine the project directory"
   ]
  },
  {
   "cell_type": "code",
   "execution_count": 1,
   "metadata": {},
   "outputs": [],
   "source": [
    "import os\n",
    "import glob\n",
    "\n",
    "from datetime import datetime\n",
    "import time\n",
    "\n",
    "import csv\n",
    "import json\n",
    "\n",
    "from common import Printable, projdir\n",
    "\n",
    "from event import Event\n",
    "\n",
    "from constants import *"
   ]
  },
  {
   "cell_type": "code",
   "execution_count": 2,
   "metadata": {},
   "outputs": [],
   "source": [
    "try:\n",
    "    wsw_full_refresh = int(os.environ['WSW_FULL_REFRESH'])\n",
    "except:\n",
    "    wsw_full_refresh = 1"
   ]
  },
  {
   "cell_type": "markdown",
   "metadata": {},
   "source": [
    "## Process Years\n",
    "\n",
    "Process all available years"
   ]
  },
  {
   "cell_type": "code",
   "execution_count": 3,
   "metadata": {},
   "outputs": [],
   "source": [
    "events = {}\n",
    "existingNames = {}\n",
    "\n",
    "\n",
    "def initEvents():\n",
    "    '''Initialise events - load entrants and index sails / GT-31s'''\n",
    "\n",
    "    eventPaths = sorted(glob.glob(os.path.join(projdir, EVENTS_DIR, '[1-2][0-9][0-9][0-9]')))\n",
    "    year = datetime.now().year\n",
    "    for eventPath in eventPaths:\n",
    "        # Behaviour will eventually differ for past years\n",
    "        if int(os.path.basename(eventPath)) == year:\n",
    "            event = Event(eventPath, appConfig, existingNames=existingNames, verbosity=1)\n",
    "            event.initEvent()\n",
    "        elif wsw_full_refresh:\n",
    "            event = Event(eventPath, appConfig, existingNames=existingNames,verbosity=1)\n",
    "            event.initEvent()\n",
    "\n",
    "        eventYear = os.path.basename(eventPath)\n",
    "        events[eventYear] = event\n",
    "\n",
    "\n",
    "def checkEntrants():\n",
    "    '''Check the entrants'''\n",
    "\n",
    "    nationalities = set()\n",
    "\n",
    "    for year in events:\n",
    "        event = events[year]\n",
    "\n",
    "        for entrantId in event.entrants:\n",
    "            entrant = event.entrants[entrantId]\n",
    "            nationality = entrant.getValue('Nationality')\n",
    "\n",
    "            names = entrant.getValue('Name')\n",
    "            for name in names.split('+'):\n",
    "                name = name.strip()\n",
    "\n",
    "                if nationality != 'TBC':\n",
    "                    if nationality not in nationalities:\n",
    "                        nationalities.add(nationality)\n",
    "\n",
    "\n",
    "def processEvents():\n",
    "    '''Process the event results'''\n",
    "\n",
    "    for year in events:\n",
    "        event = events[year]\n",
    "        event.processEvent()"
   ]
  },
  {
   "cell_type": "code",
   "execution_count": 4,
   "metadata": {},
   "outputs": [
    {
     "name": "stdout",
     "output_type": "stream",
     "text": [
      "Processing 1998...\n",
      "All done!\n",
      "\n",
      "Processing 1999...\n",
      "All done!\n",
      "\n",
      "Processing 2000...\n",
      "All done!\n",
      "\n",
      "Processing 2001...\n",
      "All done!\n",
      "\n",
      "Processing 2002...\n",
      "All done!\n",
      "\n",
      "Processing 2003...\n",
      "All done!\n",
      "\n",
      "Processing 2004...\n",
      "All done!\n",
      "\n",
      "Processing 2005...\n",
      "All done!\n",
      "\n",
      "Processing 2006...\n",
      "All done!\n",
      "\n",
      "Processing 2007...\n",
      "All done!\n",
      "\n",
      "Processing 2008...\n",
      "All done!\n",
      "\n",
      "Processing 2009...\n",
      "All done!\n",
      "\n",
      "Processing 2010...\n",
      "All done!\n",
      "\n",
      "Processing 2011...\n",
      "All done!\n",
      "\n",
      "Processing 2012...\n",
      "All done!\n",
      "\n",
      "Processing 2013...\n",
      "All done!\n",
      "\n",
      "Processing 2014...\n",
      "All done!\n",
      "\n",
      "Processing 2015...\n",
      "All done!\n",
      "\n",
      "Processing 2016...\n",
      "All done!\n",
      "\n",
      "Processing 2017...\n",
      "All done!\n",
      "\n",
      "Processing 2018...\n",
      "All done!\n",
      "\n",
      "Processing 2019...\n",
      "All done!\n",
      "\n",
      "Processing 2021...\n",
      "All done!\n",
      "\n",
      "Processing 2022...\n",
      "All done!\n",
      "\n",
      "Reports completed in 1.88 seconds\n"
     ]
    }
   ],
   "source": [
    "if __name__ == '__main__':\n",
    "    pc1 = time.perf_counter()\n",
    "    \n",
    "    # Read main config\n",
    "    filename = os.path.join(projdir, CONFIG_DIR, APP_CONFIG)\n",
    "    with open(filename, 'r', encoding='utf-8') as f:\n",
    "        jsonTxt = f.read()\n",
    "        try:\n",
    "            appConfig = json.loads(jsonTxt)\n",
    "        except:\n",
    "             self.logError('Could not parse {}'.format(filename))\n",
    "    \n",
    "    initEvents()\n",
    "    checkEntrants()\n",
    "    processEvents()\n",
    "    \n",
    "    pc2 = time.perf_counter()\n",
    "    print(\"Reports completed in %0.2f seconds\" % (pc2 - pc1))"
   ]
  },
  {
   "cell_type": "markdown",
   "metadata": {
    "collapsed": true
   },
   "source": [
    "## All Done!"
   ]
  }
 ],
 "metadata": {
  "kernelspec": {
   "display_name": "Python 3 (ipykernel)",
   "language": "python",
   "name": "python3"
  },
  "language_info": {
   "codemirror_mode": {
    "name": "ipython",
    "version": 3
   },
   "file_extension": ".py",
   "mimetype": "text/x-python",
   "name": "python",
   "nbconvert_exporter": "python",
   "pygments_lexer": "ipython3",
   "version": "3.9.7"
  }
 },
 "nbformat": 4,
 "nbformat_minor": 1
}
