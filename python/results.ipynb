{
 "cells": [
  {
   "cell_type": "markdown",
   "metadata": {},
   "source": [
    "# WSW Results"
   ]
  },
  {
   "cell_type": "markdown",
   "metadata": {},
   "source": [
    "## Initialisation\n",
    "\n",
    "Basic approach to determine the project directory"
   ]
  },
  {
   "cell_type": "code",
   "execution_count": 1,
   "metadata": {},
   "outputs": [],
   "source": [
    "import os\n",
    "import glob\n",
    "\n",
    "from datetime import datetime\n",
    "import time\n",
    "\n",
    "import csv\n",
    "import json\n",
    "\n",
    "from common import Printable, projdir\n",
    "\n",
    "from country import countryNames\n",
    "from event import Event\n",
    "\n",
    "from constants import *"
   ]
  },
  {
   "cell_type": "markdown",
   "metadata": {},
   "source": [
    "## Process Years\n",
    "\n",
    "Process all available years"
   ]
  },
  {
   "cell_type": "code",
   "execution_count": 2,
   "metadata": {},
   "outputs": [],
   "source": [
    "logger = Printable()\n",
    "\n",
    "events = {}\n",
    "existingNames = {}\n",
    "\n",
    "def processEvents():\n",
    "    '''Initialise events - load entrants and index sails / GT-31s'''\n",
    "\n",
    "    eventPaths = sorted(glob.glob(os.path.join(projdir, EVENTS_DIR, '[1-2][0-9][0-9][0-9]')))\n",
    "    currYear = datetime.today().year\n",
    "    for eventPath in eventPaths:\n",
    "        eventYear = int(os.path.basename(eventPath))\n",
    "\n",
    "        if eventYear == currYear or appConfig['History']['Refresh']:\n",
    "            if eventYear == currYear:\n",
    "                verbosity = appConfig['Latest']['Verbosity']\n",
    "            else:\n",
    "                verbosity = appConfig['History']['Verbosity']\n",
    "\n",
    "            event = Event(eventPath, appConfig, existingNames=existingNames, verbosity=verbosity)\n",
    "            event.processEvent()\n",
    "\n",
    "            events[event.year] = event"
   ]
  },
  {
   "cell_type": "code",
   "execution_count": 3,
   "metadata": {},
   "outputs": [
    {
     "name": "stdout",
     "output_type": "stream",
     "text": [
      "Processing 1998...\n",
      "All done!\n",
      "\n",
      "Processing 1999...\n",
      "All done!\n",
      "\n",
      "Processing 2000...\n",
      "All done!\n",
      "\n",
      "Processing 2001...\n",
      "All done!\n",
      "\n",
      "Processing 2002...\n",
      "All done!\n",
      "\n",
      "Processing 2003...\n",
      "All done!\n",
      "\n",
      "Processing 2004...\n",
      "All done!\n",
      "\n",
      "Processing 2005...\n",
      "All done!\n",
      "\n",
      "Processing 2006...\n",
      "All done!\n",
      "\n",
      "Processing 2007...\n",
      "All done!\n",
      "\n",
      "Processing 2008...\n",
      "All done!\n",
      "\n",
      "Processing 2009...\n",
      "All done!\n",
      "\n",
      "Processing 2010...\n",
      "All done!\n",
      "\n",
      "Processing 2011...\n",
      "All done!\n",
      "\n",
      "Processing 2012...\n",
      "All done!\n",
      "\n",
      "Processing 2013...\n",
      "All done!\n",
      "\n",
      "Processing 2014...\n",
      "All done!\n",
      "\n",
      "Processing 2015...\n",
      "All done!\n",
      "\n",
      "Processing 2016...\n",
      "All done!\n",
      "\n",
      "Processing 2017...\n",
      "All done!\n",
      "\n",
      "Processing 2018...\n",
      "All done!\n",
      "\n",
      "Processing 2019...\n",
      "All done!\n",
      "\n",
      "Processing 2021...\n",
      "All done!\n",
      "\n",
      "Processing 2022...\n",
      "All done!\n",
      "\n",
      "Reports completed in 10.28 seconds\n"
     ]
    }
   ],
   "source": [
    "if __name__ == '__main__':\n",
    "    pc1 = time.perf_counter()\n",
    "    \n",
    "    # Read main config\n",
    "    filename = os.path.join(projdir, CONFIG_DIR, APP_CONFIG)\n",
    "    with open(filename, 'r', encoding='utf-8') as f:\n",
    "        jsonTxt = f.read()\n",
    "        try:\n",
    "            appConfig = json.loads(jsonTxt)\n",
    "        except:\n",
    "            logger.logError('Could not parse {}'.format(filename))\n",
    "            raise\n",
    "    \n",
    "    processEvents()\n",
    "    \n",
    "    pc2 = time.perf_counter()\n",
    "    print(\"Reports completed in %0.2f seconds\" % (pc2 - pc1))"
   ]
  },
  {
   "cell_type": "markdown",
   "metadata": {
    "collapsed": true
   },
   "source": [
    "## All Done!"
   ]
  }
 ],
 "metadata": {
  "kernelspec": {
   "display_name": "Python 3 (ipykernel)",
   "language": "python",
   "name": "python3"
  },
  "language_info": {
   "codemirror_mode": {
    "name": "ipython",
    "version": 3
   },
   "file_extension": ".py",
   "mimetype": "text/x-python",
   "name": "python",
   "nbconvert_exporter": "python",
   "pygments_lexer": "ipython3",
   "version": "3.9.7"
  }
 },
 "nbformat": 4,
 "nbformat_minor": 1
}
