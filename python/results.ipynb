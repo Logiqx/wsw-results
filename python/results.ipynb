{
 "cells": [
  {
   "cell_type": "markdown",
   "metadata": {},
   "source": [
    "# WSW Results"
   ]
  },
  {
   "cell_type": "markdown",
   "metadata": {},
   "source": [
    "## Initialisation\n",
    "\n",
    "Basic approach to determine the project directory"
   ]
  },
  {
   "cell_type": "code",
   "execution_count": 1,
   "metadata": {},
   "outputs": [],
   "source": [
    "import os\n",
    "import glob\n",
    "\n",
    "from datetime import datetime\n",
    "import time\n",
    "\n",
    "import csv\n",
    "import json\n",
    "\n",
    "from common import Printable, projdir\n",
    "\n",
    "from event import Event\n",
    "\n",
    "from constants import *"
   ]
  },
  {
   "cell_type": "code",
   "execution_count": 2,
   "metadata": {},
   "outputs": [],
   "source": [
    "try:\n",
    "    wsw_full_refresh = int(os.environ['WSW_FULL_REFRESH'])\n",
    "except:\n",
    "    wsw_full_refresh = 1"
   ]
  },
  {
   "cell_type": "markdown",
   "metadata": {},
   "source": [
    "## Process Years\n",
    "\n",
    "Process all available years"
   ]
  },
  {
   "cell_type": "code",
   "execution_count": 3,
   "metadata": {},
   "outputs": [],
   "source": [
    "# Read main config\n",
    "filename = os.path.join(projdir, CONFIG_DIR, CONFIG_JSON)\n",
    "with open(filename, 'r', encoding='utf-8') as f:\n",
    "    jsonTxt = f.read()\n",
    "    appConfig = json.loads(jsonTxt)"
   ]
  },
  {
   "cell_type": "code",
   "execution_count": 4,
   "metadata": {},
   "outputs": [
    {
     "name": "stdout",
     "output_type": "stream",
     "text": [
      "Processing 1998...\n",
      "All done!\n",
      "\n",
      "Processing 1999...\n",
      "WARNING: Similar names - 'Jon Montgomery' vs 'John Montgomery'\n",
      "WARNING: Similar names - 'Robert Date' vs 'Bob Date'\n",
      "WARNING: Similar names - 'Jim Paine' vs 'James Paine'\n",
      "All done!\n",
      "\n",
      "Processing 2000...\n",
      "WARNING: Similar names - 'Graham Holbert' vs 'Graham Hulbert'\n",
      "All done!\n",
      "\n",
      "Processing 2001...\n",
      "WARNING: Similar names - 'Piere Saville' vs 'Pierre Saville'\n",
      "WARNING: Similar names - 'Roger Crab' vs 'Roger Crabb'\n",
      "WARNING: Similar names - 'Pete Martin' vs 'Peter Martin'\n",
      "All done!\n",
      "\n",
      "Processing 2002...\n",
      "All done!\n",
      "\n",
      "Processing 2003...\n",
      "All done!\n",
      "\n",
      "Processing 2004...\n",
      "WARNING: Similar names - 'John Pepperel' vs 'John Peperell'\n",
      "WARNING: Similar names - 'Steve Davidson' vs 'Steve Davison'\n",
      "WARNING: Similar names - 'Dave MacInnes' vs 'David MacInnes'\n",
      "WARNING: Similar names - 'Mathew Spooner' vs 'Matthew Spooner'\n",
      "All done!\n",
      "\n",
      "Processing 2005...\n",
      "WARNING: Similar names - 'Dan Robinson' vs 'Daniel Robinson'\n",
      "WARNING: Similar names - 'Alistair Williams' vs 'Alastair Williams'\n",
      "All done!\n",
      "\n",
      "Processing 2006...\n",
      "WARNING: Similar names - 'Matthew Burridge' vs 'Mathew Burridge'\n",
      "WARNING: Similar names - 'Edward Murrell' vs 'Eddie Murrell'\n",
      "WARNING: Similar names - 'Peter Davis' vs 'Pete Davis'\n",
      "WARNING: Similar names - 'Nick Brumfitt' vs 'Nick Brumfit'\n",
      "WARNING: Similar names - 'Jane Sanderson' vs 'John Sanderson'\n",
      "WARNING: Similar names - 'William Rowles' vs 'Will Rowles'\n",
      "All done!\n",
      "\n",
      "Processing 2007...\n",
      "WARNING: Similar names - 'John Langdown' vs 'John Langdon'\n",
      "WARNING: Similar names - 'Dave Strudwick' vs 'David Strudwick'\n",
      "WARNING: Similar names - 'Claud Van Martin' vs 'Claude Van-Martyn'\n",
      "WARNING: Similar names - 'Stephen Davison' vs 'Steve Davison'\n",
      "WARNING: Similar names - 'Stephen Davison' vs 'Steve Davidson'\n",
      "All done!\n",
      "\n",
      "Processing 2008...\n",
      "WARNING: Similar names - 'Alan Cross' vs 'Allan Cross'\n",
      "WARNING: Similar names - 'Pete Cunningham' vs 'Peter Cunningham'\n",
      "WARNING: Similar names - 'David Finch' vs 'Dave Finch'\n",
      "WARNING: Similar names - 'Xavier Forlet' vs 'Xavier Ferlet'\n",
      "WARNING: Similar names - 'Charlie Wilson' vs 'Charles Wilson'\n",
      "WARNING: Similar names - 'Peter Young' vs 'Pete Young'\n",
      "All done!\n",
      "\n",
      "Processing 2009...\n",
      "WARNING: Similar names - 'Alex Bennett- Baggs' vs 'Alex Bennett-Baggs'\n",
      "WARNING: Similar names - 'Will Giles' vs 'William Giles'\n",
      "WARNING: Similar names - 'Will Oscroft' vs 'William Oscroft'\n",
      "WARNING: Similar names - 'Bruno Warner' vs 'Brian Warner'\n",
      "All done!\n",
      "\n",
      "Processing 2010...\n",
      "WARNING: Similar names - 'Bjoern Haacke' vs 'Bjorn Haacke'\n",
      "WARNING: Similar names - 'Rosie Timson' vs 'Rozy Timson'\n",
      "WARNING: Similar names - 'Michael Walklin' vs 'Mike Walklin'\n",
      "WARNING: Similar names - 'Rüdiger Lotz' vs 'Rudiger Lotz'\n",
      "All done!\n",
      "\n",
      "Processing 2011...\n",
      "WARNING: Similar names - 'Antony Baker' vs 'Anthony Baker'\n",
      "All done!\n",
      "\n",
      "Processing 2012...\n",
      "WARNING: Similar names - 'Joe Adams' vs 'Joseph Adams'\n",
      "WARNING: Similar names - 'Matthew Philpott' vs 'Matt Philpott'\n",
      "All done!\n",
      "\n",
      "Processing 2013...\n",
      "WARNING: Similar names - 'Andy Harris' vs 'Andrew Harris'\n",
      "WARNING: Similar names - 'Phil Lewin' vs 'Philip Lewin'\n",
      "WARNING: Similar names - 'Claude Van Martin' vs 'Claude Van-Martyn'\n",
      "WARNING: Similar names - 'Claude Van Martin' vs 'Claud Van Martin'\n",
      "All done!\n",
      "\n",
      "Processing 2014...\n",
      "All done!\n",
      "\n",
      "Processing 2015...\n",
      "WARNING: Similar names - 'Will Trossell' vs 'William Trossell'\n",
      "All done!\n",
      "\n",
      "Processing 2016...\n",
      "WARNING: Similar names - 'Malcom Barnsley' vs 'Malcolm Barnsley'\n",
      "All done!\n",
      "\n",
      "Processing 2017...\n",
      "WARNING: Similar names - 'Nills Haarbosch' vs 'Neils Haarbosch'\n",
      "WARNING: Runs found after course S1 closed on 20171016 - latest was 17:00:36\n",
      "All done!\n",
      "\n",
      "Processing 2018...\n",
      "WARNING: Similar names - 'Robert Spagnoletti' vs 'Bob Spagnoletti'\n",
      "All done!\n",
      "\n",
      "Processing 2019...\n",
      "WARNING: Similar names - 'Steven Summerfield' vs 'Steve Summerfield'\n",
      "WARNING: Similar names - 'David Ellerbeck' vs 'Dave Ellerbeck'\n",
      "WARNING: Unrecognised GT-31 ID on 20191010 - COOK72SHAUN\n",
      "WARNING: Unrecognised GT-31 ID on 20191010 - GERRY71NORTH\n",
      "WARNING: Unrecognised GT-31 ID on 20191010 - WHEAL73TIM\n",
      "WARNING: Unrecognised GT-31 ID on 20191011 - CHIPP74SIMON\n",
      "All done!\n",
      "\n",
      "Processing 2021...\n",
      "WARNING: Runs found after course S1 closed on 20211014 - latest was 17:51:14\n",
      "All done!\n",
      "\n",
      "Reports completed in 10.92 seconds\n"
     ]
    }
   ],
   "source": [
    "pc1 = time.perf_counter()\n",
    "\n",
    "existingNames = {}\n",
    "\n",
    "# Process all events - 2010 onwards\n",
    "eventPaths = sorted(glob.glob(os.path.join(projdir, EVENTS_DIR, '[1-2][0-9][0-9][0-9]')))\n",
    "year = datetime.now().year\n",
    "for eventPath in eventPaths:\n",
    "    if int(os.path.basename(eventPath)) <= year:\n",
    "        if int(os.path.basename(eventPath)) == year:\n",
    "            event = Event(eventPath, appConfig, existingNames=existingNames, verbosity=1)\n",
    "            event.processEvent()\n",
    "        elif wsw_full_refresh:\n",
    "            event = Event(eventPath, appConfig, existingNames=existingNames,verbosity=1)\n",
    "            event.processEvent()\n",
    "            \n",
    "pc2 = time.perf_counter()\n",
    "print(\"Reports completed in %0.2f seconds\" % (pc2 - pc1))"
   ]
  },
  {
   "cell_type": "markdown",
   "metadata": {
    "collapsed": true
   },
   "source": [
    "## All Done!"
   ]
  }
 ],
 "metadata": {
  "kernelspec": {
   "display_name": "Python 3",
   "language": "python",
   "name": "python3"
  },
  "language_info": {
   "codemirror_mode": {
    "name": "ipython",
    "version": 3
   },
   "file_extension": ".py",
   "mimetype": "text/x-python",
   "name": "python",
   "nbconvert_exporter": "python",
   "pygments_lexer": "ipython3",
   "version": "3.8.8"
  }
 },
 "nbformat": 4,
 "nbformat_minor": 1
}
