{
 "cells": [
  {
   "cell_type": "markdown",
   "metadata": {},
   "source": [
    "# WSW Results"
   ]
  },
  {
   "cell_type": "markdown",
   "metadata": {},
   "source": [
    "## Initialisation\n",
    "\n",
    "Basic approach to determine the project directory"
   ]
  },
  {
   "cell_type": "code",
   "execution_count": 1,
   "metadata": {},
   "outputs": [],
   "source": [
    "import os\n",
    "import glob\n",
    "\n",
    "from datetime import datetime\n",
    "import time\n",
    "\n",
    "import csv\n",
    "import json\n",
    "\n",
    "from common import Printable, projdir\n",
    "\n",
    "from event import Event\n",
    "\n",
    "from constants import *"
   ]
  },
  {
   "cell_type": "code",
   "execution_count": 2,
   "metadata": {},
   "outputs": [],
   "source": [
    "try:\n",
    "    wsw_full_refresh = int(os.environ['WSW_FULL_REFRESH'])\n",
    "except:\n",
    "    wsw_full_refresh = 1"
   ]
  },
  {
   "cell_type": "markdown",
   "metadata": {},
   "source": [
    "## Process Years\n",
    "\n",
    "Process all available years"
   ]
  },
  {
   "cell_type": "code",
   "execution_count": 3,
   "metadata": {},
   "outputs": [],
   "source": [
    "# Read main config\n",
    "filename = os.path.join(projdir, CONFIG_DIR, CONFIG_JSON)\n",
    "with open(filename, 'r', encoding='utf-8') as f:\n",
    "    jsonTxt = f.read()\n",
    "    appConfig = json.loads(jsonTxt)"
   ]
  },
  {
   "cell_type": "code",
   "execution_count": 4,
   "metadata": {},
   "outputs": [
    {
     "name": "stdout",
     "output_type": "stream",
     "text": [
      "Processing 1998...\n",
      "All done!\n",
      "\n",
      "Processing 1999...\n",
      "All done!\n",
      "\n",
      "Processing 2000...\n",
      "All done!\n",
      "\n",
      "Processing 2001...\n",
      "All done!\n",
      "\n",
      "Processing 2002...\n",
      "All done!\n",
      "\n",
      "Processing 2003...\n",
      "All done!\n",
      "\n",
      "Processing 2004...\n",
      "All done!\n",
      "\n",
      "Processing 2005...\n",
      "WARNING: Unrecognised sail number 321 on 20051008\n",
      "WARNING: Unrecognised sail number 86 on 20051010\n",
      "WARNING: Unrecognised sail number 19 on 20051012\n",
      "WARNING: Unrecognised sail number 420 on 20051012\n",
      "WARNING: Unrecognised sail number 297 on 20051013\n",
      "All done!\n",
      "\n",
      "Processing 2006...\n",
      "WARNING: Unrecognised sail number 63 (David White) on 20061002\n",
      "WARNING: Unrecognised sail number 68 (Alan Cross) on 20061002\n",
      "WARNING: Unrecognised sail number 101 (Torix Bennett) on 20061002\n",
      "WARNING: Unrecognised sail number 122 (David Ellerbeck) on 20061002\n",
      "WARNING: Unrecognised sail number 169 (Austin Hind) on 20061002\n",
      "WARNING: Unrecognised sail number 188 (Roger Crab) on 20061002\n",
      "WARNING: Unrecognised sail number 480 (Tony Ireland) on 20061002\n",
      "WARNING: Unrecognised sail number 4 (Will Oscroft) on 20061003\n",
      "WARNING: Unrecognised sail number 11 (Bjorn Dunkerbeck) on 20061003\n",
      "WARNING: Unrecognised sail number 93 (Jim Paine) on 20061003\n",
      "WARNING: Unrecognised sail number 112 (Eugene Dunkerbeck) on 20061003\n",
      "WARNING: Unrecognised sail number 777 (Stephen Thorpe) on 20061003\n",
      "WARNING: Unrecognised sail number 999 (John Montgomery) on 20061004\n",
      "WARNING: Unrecognised sail number 2 (Ed Gollop) on 20061005\n",
      "WARNING: Unrecognised sail number 5 (Chris Cunningham) on 20061005\n",
      "WARNING: Unrecognised sail number 15 (Torsten Niehaus) on 20061005\n",
      "WARNING: Unrecognised sail number 43 (Charles Wilson) on 20061005\n",
      "WARNING: Unrecognised sail number 113 (Victor Cuoro) on 20061005\n",
      "WARNING: Auto-matched sail number 434 to Stephen Thorpe\n",
      "WARNING: Unrecognised sail number 622 (Jeremy Waitt) on 20061005\n",
      "WARNING: Unrecognised sail number 38 (#N/A) on 20061006\n",
      "WARNING: Unrecognised sail number 69 (Mike Pearce) on 20061006\n",
      "WARNING: Auto-matched sail number 163 to Charles Wilson\n",
      "WARNING: Unrecognised sail number 421 (John Langdon) on 20061006\n",
      "WARNING: Unrecognised sail number 451 (Xavier Ferlet) on 20061006\n",
      "WARNING: Unrecognised sail number 20 (Mike Walklin) on 20061007\n",
      "WARNING: Unrecognised sail number 28 (James Morris) on 20061007\n",
      "WARNING: Unrecognised sail number 48 (Marcus Partridge) on 20061007\n",
      "WARNING: Unrecognised sail number 103 (Ricky Wooding) on 20061007\n",
      "WARNING: Auto-matched sail number 142 to John Langdon\n",
      "WARNING: Auto-matched sail number 631 to Charles Wilson\n",
      "WARNING: Unrecognised sail number 997 (Cory Percival) on 20061007\n",
      "All done!\n",
      "\n",
      "Processing 2007...\n",
      "All done!\n",
      "\n",
      "Processing 2008...\n",
      "WARNING: Unrecognised sail number 586 on 20081005\n",
      "WARNING: Unrecognised sail number 111 on 20081006\n",
      "WARNING: Unrecognised sail number 0 on 20081008\n",
      "WARNING: Unrecognised sail number 694 on 20081010\n",
      "All done!\n",
      "\n",
      "Processing 2009...\n",
      "All done!\n",
      "\n",
      "Processing 2010...\n",
      "All done!\n",
      "\n",
      "Processing 2011...\n",
      "All done!\n",
      "\n",
      "Processing 2012...\n",
      "All done!\n",
      "\n",
      "Processing 2013...\n",
      "All done!\n",
      "\n",
      "Processing 2014...\n",
      "All done!\n",
      "\n",
      "Processing 2015...\n",
      "All done!\n",
      "\n",
      "Processing 2016...\n",
      "All done!\n",
      "\n",
      "Processing 2017...\n",
      "All done!\n",
      "\n",
      "Processing 2018...\n",
      "All done!\n",
      "\n",
      "Processing 2019...\n",
      "WARNING: Unrecognised GT-31 ID on 20191010 - COOK72SHAUN\n",
      "WARNING: Unrecognised GT-31 ID on 20191010 - GERRY71NORTH\n",
      "WARNING: Unrecognised GT-31 ID on 20191010 - WHEAL73TIM\n",
      "WARNING: Unrecognised GT-31 ID on 20191011 - CHIPP74SIMON\n",
      "All done!\n",
      "\n",
      "Processing 2021...\n",
      "All done!\n",
      "\n",
      "Reports completed in 1.64 seconds\n"
     ]
    }
   ],
   "source": [
    "pc1 = time.perf_counter()\n",
    "\n",
    "existingNames = {}\n",
    "\n",
    "# Process all events - 2010 onwards\n",
    "eventPaths = sorted(glob.glob(os.path.join(projdir, EVENTS_DIR, '[1-2][0-9][0-9][0-9]')))\n",
    "year = datetime.now().year\n",
    "for eventPath in eventPaths:\n",
    "    if int(os.path.basename(eventPath)) <= year:\n",
    "        if int(os.path.basename(eventPath)) == year:\n",
    "            event = Event(eventPath, appConfig, existingNames=existingNames, verbosity=1)\n",
    "            event.processEvent()\n",
    "        elif wsw_full_refresh:\n",
    "            event = Event(eventPath, appConfig, existingNames=existingNames,verbosity=1)\n",
    "            event.processEvent()\n",
    "            \n",
    "pc2 = time.perf_counter()\n",
    "print(\"Reports completed in %0.2f seconds\" % (pc2 - pc1))"
   ]
  },
  {
   "cell_type": "markdown",
   "metadata": {
    "collapsed": true
   },
   "source": [
    "## All Done!"
   ]
  }
 ],
 "metadata": {
  "kernelspec": {
   "display_name": "Python 3",
   "language": "python",
   "name": "python3"
  },
  "language_info": {
   "codemirror_mode": {
    "name": "ipython",
    "version": 3
   },
   "file_extension": ".py",
   "mimetype": "text/x-python",
   "name": "python",
   "nbconvert_exporter": "python",
   "pygments_lexer": "ipython3",
   "version": "3.8.8"
  }
 },
 "nbformat": 4,
 "nbformat_minor": 1
}
