{
 "cells": [
  {
   "cell_type": "markdown",
   "metadata": {},
   "source": [
    "# WSW Results"
   ]
  },
  {
   "cell_type": "markdown",
   "metadata": {},
   "source": [
    "## Initialisation\n",
    "\n",
    "Basic approach to determine the project directory"
   ]
  },
  {
   "cell_type": "code",
   "execution_count": 1,
   "metadata": {},
   "outputs": [],
   "source": [
    "import os\n",
    "import glob\n",
    "\n",
    "from datetime import datetime\n",
    "import time\n",
    "\n",
    "import csv\n",
    "import json\n",
    "\n",
    "from common import Printable, projdir\n",
    "\n",
    "from event import Event\n",
    "\n",
    "from constants import *"
   ]
  },
  {
   "cell_type": "code",
   "execution_count": 2,
   "metadata": {},
   "outputs": [],
   "source": [
    "try:\n",
    "    wsw_full_refresh = int(os.environ['WSW_FULL_REFRESH'])\n",
    "except:\n",
    "    wsw_full_refresh = 1"
   ]
  },
  {
   "cell_type": "markdown",
   "metadata": {},
   "source": [
    "## Process Years\n",
    "\n",
    "Process all available years"
   ]
  },
  {
   "cell_type": "code",
   "execution_count": 3,
   "metadata": {},
   "outputs": [],
   "source": [
    "# Read main config\n",
    "filename = os.path.join(projdir, CONFIG_DIR, CONFIG_JSON)\n",
    "with open(filename, 'r', encoding='utf-8') as f:\n",
    "    jsonTxt = f.read()\n",
    "    appConfig = json.loads(jsonTxt)"
   ]
  },
  {
   "cell_type": "code",
   "execution_count": 4,
   "metadata": {},
   "outputs": [
    {
     "name": "stdout",
     "output_type": "stream",
     "text": [
      "Processing 1998...\n",
      "All done!\n",
      "\n",
      "Processing 1999...\n",
      "All done!\n",
      "\n",
      "Processing 2000...\n",
      "All done!\n",
      "\n",
      "Processing 2001...\n",
      "All done!\n",
      "\n",
      "Processing 2002...\n",
      "All done!\n",
      "\n",
      "Processing 2003...\n",
      "All done!\n",
      "\n",
      "Processing 2004...\n",
      "All done!\n",
      "\n",
      "Processing 2005...\n",
      "WARNING: Unrecognised sail number on 20051008 - 321\n",
      "WARNING: Unrecognised sail number on 20051010 - 86\n",
      "WARNING: Unrecognised sail number on 20051012 - 19\n",
      "WARNING: Unrecognised sail number on 20051012 - 420\n",
      "WARNING: Unrecognised sail number on 20051013 - 297\n",
      "All done!\n",
      "\n",
      "Processing 2006...\n",
      "WARNING: Unrecognised sail number on 20061002 - 24\n",
      "WARNING: Unrecognised sail number on 20061002 - 32\n",
      "WARNING: Unrecognised sail number on 20061002 - 63\n",
      "WARNING: Unrecognised sail number on 20061002 - 68\n",
      "WARNING: Unrecognised sail number on 20061002 - 82\n",
      "WARNING: Unrecognised sail number on 20061002 - 101\n",
      "WARNING: Unrecognised sail number on 20061002 - 122\n",
      "WARNING: Unrecognised sail number on 20061002 - 169\n",
      "WARNING: Unrecognised sail number on 20061002 - 187\n",
      "WARNING: Unrecognised sail number on 20061002 - 188\n",
      "WARNING: Unrecognised sail number on 20061002 - 480\n",
      "WARNING: Unrecognised sail number on 20061002 - 609\n",
      "WARNING: Unrecognised sail number on 20061002 - 611\n",
      "WARNING: Unrecognised sail number on 20061002 - 888\n",
      "WARNING: Unrecognised sail number on 20061003 - 4\n",
      "WARNING: Unrecognised sail number on 20061003 - 11\n",
      "WARNING: Unrecognised sail number on 20061003 - 58\n",
      "WARNING: Unrecognised sail number on 20061003 - 93\n",
      "WARNING: Unrecognised sail number on 20061003 - 112\n",
      "WARNING: Unrecognised sail number on 20061003 - 777\n",
      "WARNING: Unrecognised sail number on 20061004 - 183\n",
      "WARNING: Unrecognised sail number on 20061004 - 999\n",
      "WARNING: Unrecognised sail number on 20061005 - 2\n",
      "WARNING: Unrecognised sail number on 20061005 - 5\n",
      "WARNING: Unrecognised sail number on 20061005 - 15\n",
      "WARNING: Unrecognised sail number on 20061005 - 43\n",
      "WARNING: Unrecognised sail number on 20061005 - 61\n",
      "WARNING: Unrecognised sail number on 20061005 - 113\n",
      "WARNING: Unrecognised sail number on 20061005 - 434\n",
      "WARNING: Unrecognised sail number on 20061005 - 622\n",
      "WARNING: Unrecognised sail number on 20061006 - 38\n",
      "WARNING: Unrecognised sail number on 20061006 - 69\n",
      "WARNING: Unrecognised sail number on 20061006 - 163\n",
      "WARNING: Unrecognised sail number on 20061006 - 421\n",
      "WARNING: Unrecognised sail number on 20061006 - 451\n",
      "WARNING: Unrecognised sail number on 20061007 - 20\n",
      "WARNING: Unrecognised sail number on 20061007 - 28\n",
      "WARNING: Unrecognised sail number on 20061007 - 48\n",
      "WARNING: Unrecognised sail number on 20061007 - 103\n",
      "WARNING: Unrecognised sail number on 20061007 - 142\n",
      "WARNING: Unrecognised sail number on 20061007 - 621\n",
      "WARNING: Unrecognised sail number on 20061007 - 624\n",
      "WARNING: Unrecognised sail number on 20061007 - 631\n",
      "WARNING: Unrecognised sail number on 20061007 - 948\n",
      "WARNING: Unrecognised sail number on 20061007 - 997\n",
      "WARNING: Unrecognised sail number on 20061008 - 321\n",
      "All done!\n",
      "\n",
      "Processing 2007...\n",
      "All done!\n",
      "\n",
      "Processing 2008...\n",
      "WARNING: Unrecognised sail number on 20081005 - 586\n",
      "WARNING: Unrecognised sail number on 20081006 - 111\n",
      "WARNING: Unrecognised sail number on 20081008 - 0\n",
      "WARNING: Unrecognised sail number on 20081010 - 694\n",
      "All done!\n",
      "\n",
      "Processing 2009...\n",
      "All done!\n",
      "\n",
      "Processing 2010...\n",
      "All done!\n",
      "\n",
      "Processing 2011...\n",
      "All done!\n",
      "\n",
      "Processing 2012...\n",
      "All done!\n",
      "\n",
      "Processing 2013...\n",
      "All done!\n",
      "\n",
      "Processing 2014...\n",
      "All done!\n",
      "\n",
      "Processing 2015...\n",
      "All done!\n",
      "\n",
      "Processing 2016...\n",
      "All done!\n",
      "\n",
      "Processing 2017...\n",
      "All done!\n",
      "\n",
      "Processing 2018...\n",
      "All done!\n",
      "\n",
      "Processing 2019...\n",
      "WARNING: Unrecognised GT-31 ID on 20191010 - COOK72SHAUN\n",
      "WARNING: Unrecognised GT-31 ID on 20191010 - GERRY71NORTH\n",
      "WARNING: Unrecognised GT-31 ID on 20191010 - WHEAL73TIM\n",
      "WARNING: Unrecognised GT-31 ID on 20191011 - CHIPP74SIMON\n",
      "All done!\n",
      "\n",
      "Processing 2021...\n",
      "All done!\n",
      "\n",
      "Reports completed in 1.71 seconds\n"
     ]
    }
   ],
   "source": [
    "pc1 = time.perf_counter()\n",
    "\n",
    "existingNames = {}\n",
    "\n",
    "# Process all events - 2010 onwards\n",
    "eventPaths = sorted(glob.glob(os.path.join(projdir, EVENTS_DIR, '[1-2][0-9][0-9][0-9]')))\n",
    "year = datetime.now().year\n",
    "for eventPath in eventPaths:\n",
    "    if int(os.path.basename(eventPath)) <= year:\n",
    "        if int(os.path.basename(eventPath)) == year:\n",
    "            event = Event(eventPath, appConfig, existingNames=existingNames, verbosity=1)\n",
    "            event.processEvent()\n",
    "        elif wsw_full_refresh:\n",
    "            event = Event(eventPath, appConfig, existingNames=existingNames,verbosity=1)\n",
    "            event.processEvent()\n",
    "            \n",
    "pc2 = time.perf_counter()\n",
    "print(\"Reports completed in %0.2f seconds\" % (pc2 - pc1))"
   ]
  },
  {
   "cell_type": "markdown",
   "metadata": {
    "collapsed": true
   },
   "source": [
    "## All Done!"
   ]
  }
 ],
 "metadata": {
  "kernelspec": {
   "display_name": "Python 3",
   "language": "python",
   "name": "python3"
  },
  "language_info": {
   "codemirror_mode": {
    "name": "ipython",
    "version": 3
   },
   "file_extension": ".py",
   "mimetype": "text/x-python",
   "name": "python",
   "nbconvert_exporter": "python",
   "pygments_lexer": "ipython3",
   "version": "3.8.8"
  }
 },
 "nbformat": 4,
 "nbformat_minor": 1
}
