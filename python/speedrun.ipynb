{
 "cells": [
  {
   "cell_type": "markdown",
   "metadata": {},
   "source": [
    "# SpeedRun Module"
   ]
  },
  {
   "cell_type": "markdown",
   "metadata": {},
   "source": [
    "## Initialisation\n",
    "\n",
    "Basic approach to determine the project directory"
   ]
  },
  {
   "cell_type": "code",
   "execution_count": 1,
   "metadata": {},
   "outputs": [],
   "source": [
    "import unittest\n",
    "\n",
    "from common import Printable, testExit, projdir\n",
    "\n",
    "from constants import *"
   ]
  },
  {
   "cell_type": "markdown",
   "metadata": {},
   "source": [
    "## SpeedRun Class\n",
    "\n",
    "Class to manage runs by an entrant"
   ]
  },
  {
   "cell_type": "code",
   "execution_count": 2,
   "metadata": {},
   "outputs": [],
   "source": [
    "class SpeedRun(Printable):\n",
    "    def __init__(self, course, entrant, headers, values, verbosity=1):\n",
    "        '''Initialise speed run object'''    \n",
    "\n",
    "        super().__init__(verbosity=verbosity)\n",
    "\n",
    "        self.course = course\n",
    "        self.entrant = entrant\n",
    "\n",
    "        # Store speed run details in a dictionary - makes reporting easier\n",
    "        self.data = {}\n",
    "        for i in range(len(values)):\n",
    "            try:\n",
    "                if headers[i] == T_RUN:\n",
    "                    self.data[headers[i]] = int(values[i])\n",
    "                elif headers[i] in [T_DURATION, T_SPEED, T_COG]:\n",
    "                    self.data[headers[i]] = float(values[i])\n",
    "                else:\n",
    "                    self.data[headers[i]] = values[i]\n",
    "            except:\n",
    "                self.logError('Problem parsing run data - \"{}\"'.format(values))\n",
    "                raise\n",
    "\n",
    "\n",
    "    def getValue(self, name):\n",
    "        '''Retrieve value from dictionary'''\n",
    "\n",
    "        return self.data[name]"
   ]
  },
  {
   "cell_type": "markdown",
   "metadata": {},
   "source": [
    "## Unit Tests\n",
    "\n",
    "A handful of very basic tests"
   ]
  },
  {
   "cell_type": "code",
   "execution_count": 3,
   "metadata": {},
   "outputs": [],
   "source": [
    "class TestSpeedRun(unittest.TestCase):\n",
    "    '''Class to test SpeedRun class'''\n",
    "\n",
    "    def testRun(self):\n",
    "        '''Test the run number'''\n",
    "\n",
    "        speedRun = SpeedRun(None, None, [T_RUN], ['1'])\n",
    "        self.assertEqual(speedRun.getValue(T_RUN), 1)\n",
    "\n",
    "\n",
    "    def testDuration(self):\n",
    "        '''Test the duration - Pete Young 38.017 knot run'''\n",
    "\n",
    "        speedRun = SpeedRun(None, None, [T_DURATION], ['25.565'])\n",
    "        self.assertEqual(speedRun.getValue(T_DURATION), 25.565)\n",
    "\n",
    "\n",
    "    def testSpeed(self):\n",
    "        '''Test the speed - Pete Young 38.017 knot run'''\n",
    "\n",
    "        speedRun = SpeedRun(None, None, [T_SPEED], ['38.017'])\n",
    "        self.assertEqual(speedRun.getValue(T_SPEED), 38.017)\n",
    "\n",
    "\n",
    "    def testCog(self):\n",
    "        '''Test the COG - Pete Young 38.017 knot run'''\n",
    "\n",
    "        speedRun = SpeedRun(None, None, [T_COG], ['343.6'])\n",
    "        self.assertEqual(speedRun.getValue(T_COG), 343.6)"
   ]
  },
  {
   "cell_type": "markdown",
   "metadata": {},
   "source": [
    "## Run Unit Tests\n",
    "\n",
    "Note: Only run unit tests when running this script directly, not during an import"
   ]
  },
  {
   "cell_type": "code",
   "execution_count": 4,
   "metadata": {},
   "outputs": [
    {
     "name": "stderr",
     "output_type": "stream",
     "text": [
      "....\n",
      "----------------------------------------------------------------------\n",
      "Ran 4 tests in 0.007s\n",
      "\n",
      "OK\n"
     ]
    }
   ],
   "source": [
    "if __name__ == '__main__':\n",
    "    unittest.main(argv=['first-arg-is-ignored'], exit=testExit)"
   ]
  },
  {
   "cell_type": "markdown",
   "metadata": {
    "collapsed": true
   },
   "source": [
    "## All Done!"
   ]
  }
 ],
 "metadata": {
  "kernelspec": {
   "display_name": "Python 3",
   "language": "python",
   "name": "python3"
  },
  "language_info": {
   "codemirror_mode": {
    "name": "ipython",
    "version": 3
   },
   "file_extension": ".py",
   "mimetype": "text/x-python",
   "name": "python",
   "nbconvert_exporter": "python",
   "pygments_lexer": "ipython3",
   "version": "3.8.8"
  }
 },
 "nbformat": 4,
 "nbformat_minor": 1
}
