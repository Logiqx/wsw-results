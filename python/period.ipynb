{
 "cells": [
  {
   "cell_type": "markdown",
   "metadata": {},
   "source": [
    "# Period Module"
   ]
  },
  {
   "cell_type": "markdown",
   "metadata": {},
   "source": [
    "## Initialisation\n",
    "\n",
    "Import modules, etc"
   ]
  },
  {
   "cell_type": "code",
   "execution_count": 1,
   "metadata": {},
   "outputs": [],
   "source": [
    "import unittest\n",
    "\n",
    "from common import Printable, projdir\n",
    "\n",
    "from name import Name\n",
    "from fuzzy import FuzzyMatch\n",
    "from entrant import Entrant\n",
    "\n",
    "from constants import *"
   ]
  },
  {
   "cell_type": "markdown",
   "metadata": {},
   "source": [
    "## Period Class\n",
    "\n",
    "The period class contains common methods for events, sessions and courses"
   ]
  },
  {
   "cell_type": "code",
   "execution_count": 2,
   "metadata": {},
   "outputs": [],
   "source": [
    "class Period(Printable):\n",
    "    def __init__(self, parent=None, verbosity=1):\n",
    "        '''Initialise period object'''\n",
    "\n",
    "        super().__init__(verbosity=verbosity)\n",
    "\n",
    "        self.parent = parent\n",
    "\n",
    "        if parent:\n",
    "            self.entrants = parent.entrants\n",
    "            self.names = parent.names\n",
    "            self.sailNos = parent.sailNos\n",
    "            self.gt31Ids = parent.gt31Ids\n",
    "            self.fuzzyMatch = parent.fuzzyMatch\n",
    "            self.appConfig = parent.appConfig\n",
    "\n",
    "        else:\n",
    "            self.entrants = {}\n",
    "            self.names = {}\n",
    "            self.sailNos = {}\n",
    "            self.gt31Ids = {}\n",
    "            self.fuzzyMatch = FuzzyMatch()\n",
    "            self.appConfig = None\n",
    "\n",
    "        self.runs = {}\n",
    "        self.numRuns = 0\n",
    "\n",
    "\n",
    "    def getEntrantBySailNo(self, sailNo, name):\n",
    "        '''Get entrant from the sail number'''\n",
    "\n",
    "        if sailNo not in self.sailNos:\n",
    "\n",
    "            # Start by attempting a quick lookup of the name itself\n",
    "            # TODO - match by craft type as well as name\n",
    "            if name and name in self.names:\n",
    "                entrant = self.names[name][0]\n",
    "                self.sailNos[sailNo] = entrant\n",
    "                self.logWarning('Auto-matched sail number {} to {} ({})'.format(\n",
    "                    sailNo, entrant.getName(), entrant.getValue('Craft Type')))\n",
    "               \n",
    "            else:\n",
    "                # Next try looking for entrant names that count as a fuzzy match\n",
    "                # TODO - match by craft type as well as name\n",
    "                entrants = []\n",
    "                if name:\n",
    "                    nameObj = Name(name)\n",
    "                    for entrantId in self.entrants:\n",
    "                        entrant = self.entrants[entrantId]\n",
    "                        if self.fuzzyMatch.matchNameObjects(entrant.name, nameObj):\n",
    "                            entrants.append(entrant)\n",
    "\n",
    "                # Only accept a unique match - multiple matches will be ignored\n",
    "                if len(entrants) == 1:\n",
    "                    entrant = entrants[0]\n",
    "                    self.names[name] = [entrant]\n",
    "                    self.sailNos[sailNo] = entrant\n",
    "                    self.logWarning('Auto-matched sail number {} to {} ({})'.format(\n",
    "                        sailNo, entrant.getName(), entrant.getValue('Craft Type')))\n",
    "\n",
    "                else:\n",
    "                    entrantId = max(self.entrants) + 1\n",
    "\n",
    "                    if name:\n",
    "                        entrant = Entrant([\"ID\", \"Sail Number\", \"Name\"], [entrantId, sailNo, name], verbosity=self.verbosity)\n",
    "                        self.logWarning('Unrecognised sail number {} ({}) on {}'.format(sailNo, entrant.getName(), self.date))\n",
    "                    else:\n",
    "                        entrant = Entrant([\"ID\", \"Sail Number\"], [entrantId, sailNo], verbosity=self.verbosity)\n",
    "                        self.logWarning('Unrecognised sail number {} on {}'.format(sailNo, self.date))\n",
    "\n",
    "                    self.entrants[entrantId] = entrant\n",
    "                    self.names[name] = [entrant]\n",
    "                    self.sailNos[sailNo] = entrant\n",
    "\n",
    "        else:\n",
    "            entrant = self.sailNos[sailNo]\n",
    "\n",
    "            # TODO - check craft type as well as name\n",
    "            if name not in self.names:\n",
    "                if name and name != entrant.getName():\n",
    "                    nameObj = Name(name)\n",
    "                    if self.fuzzyMatch.matchNameObjects(nameObj, entrant.name) is False:\n",
    "                        self.logWarning('Name mismatch for sail {} - {} vs {}'.format(sailNo, name, entrant.getName()))\n",
    "\n",
    "                self.names[name] = [entrant]\n",
    "\n",
    "        return entrant\n",
    "\n",
    "\n",
    "    def getEntrantByGt31(self, gt31Id, gt31Serial):\n",
    "        '''Get entrant from the GT-31 ID and serial'''\n",
    "\n",
    "        if gt31Id not in self.gt31Ids:\n",
    "            self.logWarning('Unrecognised GT-31 ID on {} - {}'.format(self.date, gt31Id))\n",
    "\n",
    "            entrantId = max(self.entrants) + 1\n",
    "            entrant = Entrant([\"ID\", \"GT31 ID\", \"GT31 SN\"], [entrantId, gt31Id, gt31Serial], verbosity=self.verbosity)\n",
    "            name = entrant.getName()\n",
    "\n",
    "            self.entrants[entrantId] = entrant\n",
    "            self.names[name] = [entrant]\n",
    "            self.gt31Ids[gt31Id] = entrant\n",
    "\n",
    "        # TODO - check for unique serial (just in case GPS name has been changed)\n",
    "\n",
    "        else:\n",
    "            entrant = self.gt31Ids[gt31Id]\n",
    "\n",
    "            # Only report unrecognised GT-31 serials if the entrant had any GT-31 serials registered\n",
    "            if entrant.gt31SerialNumbers and gt31Serial not in entrant.gt31SerialNumbers:\n",
    "                self.logWarning('Unrecognised GT-31 SN for {} ({}) on {} - {} vs {}'.format(\n",
    "                        entrant.getValue('Name'), entrant.getValue('Craft Type'), self.date,\n",
    "                        gt31Serial, entrant.gt31SerialNumbers))\n",
    "\n",
    "                entrant.gt31SerialNumbers.add(gt31Serial)\n",
    "\n",
    "        return entrant\n",
    "\n",
    "\n",
    "    def storeRun(self, entrantId, speedRun):\n",
    "        '''Store run in memory'''\n",
    "\n",
    "        if entrantId in self.runs:\n",
    "            self.runs[entrantId].append(speedRun)\n",
    "        else:\n",
    "            self.runs[entrantId] = [speedRun]\n",
    "            \n",
    "        self.numRuns += 1\n",
    "\n",
    "        if self.parent:\n",
    "            self.parent.storeRun(entrantId, speedRun)\n",
    "\n",
    "\n",
    "    def sortRuns(self):\n",
    "        '''Sort runs for each person, fastest to slowest'''\n",
    "\n",
    "        for entrantId in self.runs:\n",
    "            self.runs[entrantId].sort(key=lambda x: x.data[T_SPEED], reverse=True)"
   ]
  },
  {
   "cell_type": "markdown",
   "metadata": {},
   "source": [
    "## Unit Tests\n",
    "\n",
    "A handful of very basic tests, including a dummy session class"
   ]
  },
  {
   "cell_type": "code",
   "execution_count": 3,
   "metadata": {},
   "outputs": [],
   "source": [
    "class TestPeriod(unittest.TestCase):\n",
    "    '''Class to test Period class'''\n",
    "    \n",
    "    def testDummy(self, session=None):\n",
    "        '''Test using dummy data'''\n",
    "\n",
    "        pass"
   ]
  },
  {
   "cell_type": "markdown",
   "metadata": {},
   "source": [
    "## Run Unit Tests\n",
    "\n",
    "Note: Only run unit tests when running this script directly, not during an import"
   ]
  },
  {
   "cell_type": "code",
   "execution_count": 4,
   "metadata": {},
   "outputs": [
    {
     "name": "stderr",
     "output_type": "stream",
     "text": [
      ".\n",
      "----------------------------------------------------------------------\n",
      "Ran 1 test in 0.002s\n",
      "\n",
      "OK\n"
     ]
    }
   ],
   "source": [
    "if __name__ == '__main__':\n",
    "    unittest.main(argv=['first-arg-is-ignored'], exit=False)"
   ]
  },
  {
   "cell_type": "markdown",
   "metadata": {
    "collapsed": true
   },
   "source": [
    "## All Done!"
   ]
  }
 ],
 "metadata": {
  "kernelspec": {
   "display_name": "Python 3",
   "language": "python",
   "name": "python3"
  },
  "language_info": {
   "codemirror_mode": {
    "name": "ipython",
    "version": 3
   },
   "file_extension": ".py",
   "mimetype": "text/x-python",
   "name": "python",
   "nbconvert_exporter": "python",
   "pygments_lexer": "ipython3",
   "version": "3.8.8"
  }
 },
 "nbformat": 4,
 "nbformat_minor": 1
}
