{
 "cells": [
  {
   "cell_type": "markdown",
   "metadata": {},
   "source": [
    "# Period Module"
   ]
  },
  {
   "cell_type": "markdown",
   "metadata": {},
   "source": [
    "## Initialisation\n",
    "\n",
    "Import modules, etc"
   ]
  },
  {
   "cell_type": "code",
   "execution_count": 1,
   "metadata": {},
   "outputs": [],
   "source": [
    "import os\n",
    "import operator\n",
    "import jinja2\n",
    "\n",
    "from datetime import datetime\n",
    "\n",
    "import unittest\n",
    "\n",
    "from common import Printable, testExit, projdir\n",
    "\n",
    "from fuzzy import FuzzyMatch\n",
    "from entrant import Entrant\n",
    "\n",
    "from constants import *"
   ]
  },
  {
   "cell_type": "markdown",
   "metadata": {},
   "source": [
    "## Period Class\n",
    "\n",
    "The period class contains common methods for events, sessions and courses"
   ]
  },
  {
   "cell_type": "code",
   "execution_count": 2,
   "metadata": {},
   "outputs": [],
   "source": [
    "class Period(Printable):\n",
    "    def __init__(self, parent=None, verbosity=1):\n",
    "        '''Initialise period object'''\n",
    "\n",
    "        super().__init__(verbosity=verbosity)\n",
    "\n",
    "        self.period = self.__class__.__name__\n",
    "        self.parent = parent\n",
    "\n",
    "        if parent:\n",
    "            self.year = parent.year\n",
    "            self.entrants = parent.entrants\n",
    "            self.names = parent.names\n",
    "            self.sailNos = parent.sailNos\n",
    "            self.gt31Ids = parent.gt31Ids\n",
    "            self.fuzzyMatch = parent.fuzzyMatch\n",
    "            self.appConfig = parent.appConfig\n",
    "            self.eventConfig = parent.eventConfig\n",
    "            self.reports = parent.reports\n",
    "\n",
    "        else:\n",
    "            self.year = None\n",
    "            self.entrants = {}\n",
    "            self.names = {}\n",
    "            self.sailNos = {}\n",
    "            self.gt31Ids = {}\n",
    "            self.fuzzyMatch = FuzzyMatch()\n",
    "            self.appConfig = None\n",
    "            self.eventConfig = None\n",
    "            self.reports = None\n",
    "\n",
    "        self.runs = {}\n",
    "        self.numRuns = 0\n",
    "\n",
    "\n",
    "    def sortRuns(self):\n",
    "        '''Sort runs for each person, fastest to slowest'''\n",
    "\n",
    "        entrants = []\n",
    "\n",
    "        for entrantId in self.runs:\n",
    "            # Sort the runs for the individual entrant\n",
    "            runs = self.runs[entrantId]\n",
    "            runs.sort(key=lambda x: x.data[T_SPEED], reverse=True)\n",
    "            \n",
    "            # Period sort will be based on speed descending (hence the negative) and date/time ascending\n",
    "            bestRun = runs[0]\n",
    "            entrants.append((entrantId, runs, -bestRun.speed, bestRun.date, bestRun.time))\n",
    "\n",
    "        # Sort avoids using a lambda function call\n",
    "        entrants.sort(key = operator.itemgetter(2, 3, 4))\n",
    "        \n",
    "        # Re-create self.runs so that it is correctly sorted (Python 3.7 upwards)\n",
    "        self.runs = {}\n",
    "        for entrant in entrants:\n",
    "            self.runs[entrant[0]] = entrant[1]\n",
    "\n",
    "\n",
    "    def getEventName(self):\n",
    "        '''Get the event name from event config or app config'''\n",
    "\n",
    "        eventName = None\n",
    "\n",
    "        if 'Event' in self.eventConfig:\n",
    "            if 'Name' in self.eventConfig['Event']:\n",
    "                eventName = self.eventConfig['Event']['Name']\n",
    "\n",
    "        if eventName is None and 'Event' in self.appConfig:\n",
    "            if 'Name' in self.appConfig['Event']:\n",
    "                eventName = self.appConfig['Event']['Name']\n",
    "\n",
    "        if eventName is None:\n",
    "            eventName = 'Weymouth Speed Week'\n",
    "\n",
    "        return eventName\n",
    "\n",
    "\n",
    "    def runReports(self):\n",
    "        '''Run all of the reports results'''\n",
    "\n",
    "        numWarnings = 0\n",
    "\n",
    "        # Note: It is slightly debatable whether this class should interact with the Reports class at such a low level\n",
    "        className = self.__class__.__name__\n",
    "        if className in self.reports.periods:\n",
    "            reportSets = self.reports.periods[className]\n",
    "\n",
    "            templatePath = os.path.join(projdir, 'python', 'templates')\n",
    "            templateLoader = jinja2.FileSystemLoader(searchpath=templatePath)\n",
    "            templateEnv = jinja2.Environment(loader=templateLoader, autoescape=True, trim_blocks=True, lstrip_blocks=True)\n",
    "\n",
    "            eventName = self.getEventName()\n",
    "            if className == 'Session':\n",
    "                periodDate = datetime.strptime(self.date, \"%Y%m%d\").strftime(\"%a %-d %b\")\n",
    "                pageComment = self.comment\n",
    "            else:\n",
    "                periodDate = self.year\n",
    "                pageComment = None\n",
    "\n",
    "            for reportSet in reportSets.keys():\n",
    "                reports = reportSets[reportSet]\n",
    "                numResults = 0\n",
    "\n",
    "                for report in reports:\n",
    "                    report.prepareResults(self.runs)\n",
    "                    numResults += len(report.results)\n",
    "\n",
    "                    if report.warning and len(report.results) > 0:\n",
    "                        numWarnings += 1\n",
    "\n",
    "                htmlDir = os.path.join(projdir, 'docs', 'results', str(self.year))\n",
    "                rootPath = '..'\n",
    "                if className == 'Session':\n",
    "                    htmlDir = os.path.join(htmlDir, self.date)\n",
    "                    rootPath = os.path.join(rootPath, '..')\n",
    "                if not os.path.exists(htmlDir):\n",
    "                    os.makedirs(htmlDir)\n",
    "\n",
    "                htmlFile = os.path.join(htmlDir, reportSet + '.html')\n",
    "\n",
    "                if numResults > 0 or pageComment:\n",
    "                    template = templateEnv.get_template(\"results.html\")\n",
    "                    html = template.render(\n",
    "                                    eventName=eventName,\n",
    "                                    className=className,\n",
    "                                    pageTitle=reports[0].suptitle,\n",
    "                                    pageComment=pageComment,\n",
    "                                    pageDescription=reports[0].suptitle,\n",
    "                                    periodDate=periodDate,\n",
    "                                    cssPath=os.path.join(rootPath, 'css'),\n",
    "                                    reports=reports)\n",
    "\n",
    "                    with open(htmlFile, 'w', encoding='utf-8') as f:\n",
    "                        f.write(html)\n",
    "                else:\n",
    "                    try:\n",
    "                        os.remove(htmlFile)\n",
    "                    except OSError:\n",
    "                        pass\n",
    "                    \n",
    "        if numWarnings > 0:\n",
    "            if className == 'Session':\n",
    "                self.logWarning('{} report on {} generated results - {}'.format(\n",
    "                    className, self.date, report.filter))\n",
    "            else:\n",
    "                self.logWarning('{} report generated results - {}'.format(\n",
    "                    className, report.filter))"
   ]
  },
  {
   "cell_type": "markdown",
   "metadata": {},
   "source": [
    "## Unit Tests\n",
    "\n",
    "A handful of very basic tests, including a dummy session class"
   ]
  },
  {
   "cell_type": "code",
   "execution_count": 3,
   "metadata": {},
   "outputs": [],
   "source": [
    "class TestPeriod(unittest.TestCase):\n",
    "    '''Class to test Period class'''\n",
    "    \n",
    "    def testDummy(self, session=None):\n",
    "        '''Test using dummy data'''\n",
    "\n",
    "        pass"
   ]
  },
  {
   "cell_type": "markdown",
   "metadata": {},
   "source": [
    "## Run Unit Tests\n",
    "\n",
    "Note: Only run unit tests when running this script directly, not during an import"
   ]
  },
  {
   "cell_type": "code",
   "execution_count": 4,
   "metadata": {},
   "outputs": [
    {
     "name": "stderr",
     "output_type": "stream",
     "text": [
      ".\n",
      "----------------------------------------------------------------------\n",
      "Ran 1 test in 0.002s\n",
      "\n",
      "OK\n"
     ]
    }
   ],
   "source": [
    "if __name__ == '__main__':\n",
    "    unittest.main(argv=['first-arg-is-ignored'], exit=testExit)"
   ]
  },
  {
   "cell_type": "markdown",
   "metadata": {
    "collapsed": true
   },
   "source": [
    "## All Done!"
   ]
  }
 ],
 "metadata": {
  "kernelspec": {
   "display_name": "Python 3 (ipykernel)",
   "language": "python",
   "name": "python3"
  },
  "language_info": {
   "codemirror_mode": {
    "name": "ipython",
    "version": 3
   },
   "file_extension": ".py",
   "mimetype": "text/x-python",
   "name": "python",
   "nbconvert_exporter": "python",
   "pygments_lexer": "ipython3",
   "version": "3.9.7"
  }
 },
 "nbformat": 4,
 "nbformat_minor": 1
}
