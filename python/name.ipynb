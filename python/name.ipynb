{
 "cells": [
  {
   "cell_type": "markdown",
   "metadata": {},
   "source": [
    "# Name Module"
   ]
  },
  {
   "cell_type": "markdown",
   "metadata": {},
   "source": [
    "## Initialisation\n",
    "\n",
    "Basic approach to determine the project directory"
   ]
  },
  {
   "cell_type": "code",
   "execution_count": 1,
   "metadata": {},
   "outputs": [],
   "source": [
    "from pyphonetics import Soundex\n",
    "\n",
    "import unittest\n",
    "\n",
    "from common import Printable"
   ]
  },
  {
   "cell_type": "markdown",
   "metadata": {},
   "source": [
    "## Nicknames\n",
    "\n",
    "TODO - move these lists into external files in projdir/config"
   ]
  },
  {
   "cell_type": "code",
   "execution_count": 2,
   "metadata": {},
   "outputs": [],
   "source": [
    "# Nickname processing happens first\n",
    "nicknames = \\\n",
    "{\n",
    "    'Andy': 'Andrew',\n",
    "    'Bob': 'Robert',\n",
    "    'Charlie': 'Charles',\n",
    "    'Dan': 'Daniel',\n",
    "    'Dave': 'David',\n",
    "    'Ed': 'Edward',\n",
    "    'Eddie': 'Edward',\n",
    "    'Jim': 'James',\n",
    "    'Joe': 'Joseph',\n",
    "    'Matt': 'Matthew',\n",
    "    'Mike': 'Michael',\n",
    "    'Pete': 'Peter',\n",
    "    'Phil': 'Philip',\n",
    "    'Rob': 'Robert',\n",
    "    'Si': 'Simon',\n",
    "    'Steve': 'Steven',\n",
    "    'Stephen': 'Steven',\n",
    "    'Tim': 'Timothy',\n",
    "    'Will': 'William'\n",
    "}"
   ]
  },
  {
   "cell_type": "markdown",
   "metadata": {},
   "source": [
    "## Name Class\n",
    "\n",
    "Generic class to represent a name"
   ]
  },
  {
   "cell_type": "code",
   "execution_count": 3,
   "metadata": {},
   "outputs": [],
   "source": [
    "class Name(Printable):\n",
    "    def __init__(self, name, verbosity=1):\n",
    "\n",
    "        # Retain parameters\n",
    "        self.name = name\n",
    "        self.verbosity = verbosity\n",
    "\n",
    "        # Deconstruct name into individual parts\n",
    "        self.names = []\n",
    "        for name in name.replace('-', ' ').replace('.', ' ').split(' '):\n",
    "            if name:\n",
    "                self.names.append(name)\n",
    "\n",
    "        # Convert nicknames into full names\n",
    "        self.derivedNames = []\n",
    "        for name in self.names:\n",
    "            if name in nicknames:\n",
    "                self.derivedNames.append(nicknames[name])\n",
    "            else:\n",
    "                self.derivedNames.append(name)\n",
    "        self.derivedName = ' '.join(self.derivedNames)\n",
    "\n",
    "        # Determine initials\n",
    "        self.initials = [name[:1].upper() for name in self.names]\n",
    "        self.derivedInitials = [name[:1].upper() for name in self.derivedNames]\n",
    "        \n",
    "        # Re-use the same soundex object for each name part\n",
    "        soundex = Soundex()\n",
    "\n",
    "        # Calculate soundexes for each name part\n",
    "        try:\n",
    "            self.soundexes = [soundex.phonetics(name) for name in self.names if name[:1].isalpha()]\n",
    "        except:\n",
    "            print('Crashed calculating soundexes for {}'.format(self.names))\n",
    "            raise\n",
    "            \n",
    "        # Calculate soundexes for each derived name part\n",
    "        try:\n",
    "            self.derivedSoundexes = [soundex.phonetics(name) for name in self.derivedNames if name[:1].isalpha()]\n",
    "        except:\n",
    "            print('Crashed calculating soundexes for {}'.format(self.derivedNames))\n",
    "            raise"
   ]
  },
  {
   "cell_type": "markdown",
   "metadata": {},
   "source": [
    "## Unit Tests\n",
    "\n",
    "A handful of very basic tests"
   ]
  },
  {
   "cell_type": "code",
   "execution_count": 4,
   "metadata": {},
   "outputs": [],
   "source": [
    "class TestName(unittest.TestCase):\n",
    "    '''Class to test Name class'''\n",
    "\n",
    "    def testNickname(self):\n",
    "\n",
    "        name = Name('Bob Spagnoletti')\n",
    "\n",
    "        self.assertEqual(name.name, 'Bob Spagnoletti')\n",
    "        self.assertEqual(name.names, ['Bob', 'Spagnoletti'])\n",
    "        self.assertEqual(name.initials, ['B', 'S'])\n",
    "        self.assertEqual(name.soundexes, ['B100', 'S125'])\n",
    "\n",
    "        self.assertEqual(name.derivedName, 'Robert Spagnoletti')\n",
    "        self.assertEqual(name.derivedNames, ['Robert', 'Spagnoletti'])\n",
    "        self.assertEqual(name.derivedInitials, ['R', 'S'])\n",
    "        self.assertEqual(name.derivedSoundexes, ['R163', 'S125'])\n",
    "\n",
    "\n",
    "    def testHyphen(self):\n",
    "\n",
    "        name = Name('Claude Van-Martyn')\n",
    "\n",
    "        self.assertEqual(name.name, 'Claude Van-Martyn')\n",
    "        self.assertEqual(name.names, ['Claude', 'Van', 'Martyn'])\n",
    "        self.assertEqual(name.initials, ['C', 'V', 'M'])\n",
    "        self.assertEqual(name.soundexes, ['C430', 'V500', 'M635'])\n",
    "\n",
    "        self.assertEqual(name.derivedName, 'Claude Van Martyn')\n",
    "        self.assertEqual(name.derivedNames, ['Claude', 'Van', 'Martyn'])\n",
    "        self.assertEqual(name.derivedInitials, ['C', 'V', 'M'])\n",
    "        self.assertEqual(name.derivedSoundexes, ['C430', 'V500', 'M635'])\n",
    "\n",
    "\n",
    "    def testInitials(self):\n",
    "\n",
    "        name = Name('E.H.S.')\n",
    "\n",
    "        self.assertEqual(name.name, 'E.H.S.')\n",
    "        self.assertEqual(name.names, ['E', 'H', 'S'])\n",
    "        self.assertEqual(name.initials, ['E', 'H', 'S'])\n",
    "        self.assertEqual(name.soundexes, ['E000', 'H000', 'S000'])\n",
    "\n",
    "        self.assertEqual(name.derivedName, 'E H S')\n",
    "        self.assertEqual(name.derivedNames, ['E', 'H', 'S'])\n",
    "        self.assertEqual(name.derivedInitials, ['E', 'H', 'S'])\n",
    "        self.assertEqual(name.derivedSoundexes, ['E000', 'H000', 'S000'])\n",
    "\n",
    "\n",
    "    def testCrash(self):\n",
    "\n",
    "        name = Name('Richard Jones (GBR-32)')"
   ]
  },
  {
   "cell_type": "markdown",
   "metadata": {},
   "source": [
    "## Run Unit Tests\n",
    "\n",
    "Note: Only run unit tests when running this script directly, not during an import"
   ]
  },
  {
   "cell_type": "code",
   "execution_count": 5,
   "metadata": {},
   "outputs": [
    {
     "name": "stderr",
     "output_type": "stream",
     "text": [
      "....\n",
      "----------------------------------------------------------------------\n",
      "Ran 4 tests in 0.008s\n",
      "\n",
      "OK\n"
     ]
    }
   ],
   "source": [
    "if __name__ == '__main__':\n",
    "    unittest.main(argv=['first-arg-is-ignored'], exit=False)"
   ]
  },
  {
   "cell_type": "markdown",
   "metadata": {
    "collapsed": true
   },
   "source": [
    "## All Done!"
   ]
  }
 ],
 "metadata": {
  "kernelspec": {
   "display_name": "Python 3",
   "language": "python",
   "name": "python3"
  },
  "language_info": {
   "codemirror_mode": {
    "name": "ipython",
    "version": 3
   },
   "file_extension": ".py",
   "mimetype": "text/x-python",
   "name": "python",
   "nbconvert_exporter": "python",
   "pygments_lexer": "ipython3",
   "version": "3.8.8"
  }
 },
 "nbformat": 4,
 "nbformat_minor": 1
}
