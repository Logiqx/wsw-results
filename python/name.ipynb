{
 "cells": [
  {
   "cell_type": "markdown",
   "metadata": {},
   "source": [
    "# Name Module"
   ]
  },
  {
   "cell_type": "markdown",
   "metadata": {},
   "source": [
    "## Initialisation\n",
    "\n",
    "Basic approach to determine the project directory"
   ]
  },
  {
   "cell_type": "code",
   "execution_count": 1,
   "metadata": {},
   "outputs": [],
   "source": [
    "import os\n",
    "import csv\n",
    "\n",
    "from pyphonetics import Soundex\n",
    "\n",
    "import unittest\n",
    "\n",
    "from common import Printable, projdir\n",
    "from constants import *"
   ]
  },
  {
   "cell_type": "markdown",
   "metadata": {},
   "source": [
    "## Load Nicknames into Memory\n",
    "\n",
    "Load nicknames into memory when the module is imported"
   ]
  },
  {
   "cell_type": "code",
   "execution_count": 2,
   "metadata": {},
   "outputs": [],
   "source": [
    "nicknames = {}\n",
    "\n",
    "csvPath = os.path.join(projdir, CONFIG_DIR, 'nicknames.csv')\n",
    "\n",
    "with open(csvPath, 'r', encoding='utf-8') as f:\n",
    "    csvReader = csv.reader(f)\n",
    "    for values in csvReader:\n",
    "        if values[0] != \"NICKNAME\":\n",
    "            nicknames[values[0]] = values[1]"
   ]
  },
  {
   "cell_type": "markdown",
   "metadata": {},
   "source": [
    "## Name Class\n",
    "\n",
    "Generic class to represent a name"
   ]
  },
  {
   "cell_type": "code",
   "execution_count": 3,
   "metadata": {},
   "outputs": [],
   "source": [
    "class Name(Printable):\n",
    "    def __init__(self, name, verbosity=1):\n",
    "\n",
    "        # Retain parameters\n",
    "        self.name = name\n",
    "        self.verbosity = verbosity\n",
    "        \n",
    "        self.determineNames(name)\n",
    "        self.determineDerivedNames()\n",
    "        self.determineInitials()\n",
    "        self.determineSoundexes()\n",
    "        \n",
    "\n",
    "    def determineNames(self, name):\n",
    "        '''Split up names based on spaces, hyphens and periods'''\n",
    "\n",
    "        self.names = []\n",
    "        for name in name.replace('-', ' ').replace('.', ' ').split(' '):\n",
    "            if name:\n",
    "                self.names.append(name)\n",
    "\n",
    "        if len(self.names) >= 1:\n",
    "            self.firstName = self.names[0]\n",
    "        else:\n",
    "            self.firstName = None\n",
    "\n",
    "        if len(self.names) >= 2:\n",
    "            self.lastName = self.names[-1]\n",
    "        else:\n",
    "            self.lastName = None\n",
    "\n",
    "\n",
    "    def determineDerivedNames(self):\n",
    "        '''Convert nicknames into full names'''\n",
    "\n",
    "        self.derivedNames = []\n",
    "        for name in self.names:\n",
    "            if name in nicknames:\n",
    "                self.derivedNames.append(nicknames[name])\n",
    "            else:\n",
    "                self.derivedNames.append(name)\n",
    "        self.derivedName = ' '.join(self.derivedNames)\n",
    "\n",
    "        if len(self.derivedNames) >= 1:\n",
    "            self.derivedFirstName = self.derivedNames[0]\n",
    "        else:\n",
    "            self.derivedFirstName = None\n",
    "\n",
    "        if len(self.derivedNames) >= 2:\n",
    "            self.derivedLastName = self.derivedNames[-1]\n",
    "        else:\n",
    "            self.derivedLastName = None\n",
    "\n",
    "\n",
    "    def determineInitials(self):\n",
    "        '''Determine initials from each name part'''\n",
    "\n",
    "        # Determine initials\n",
    "        self.initials = [name[:1].upper() for name in self.names]\n",
    "        self.derivedInitials = [name[:1].upper() for name in self.derivedNames]\n",
    "\n",
    "\n",
    "    def determineSoundexes(self):\n",
    "        '''Determine soundexes for each name part'''\n",
    "\n",
    "        # Re-use the same soundex object for each name part\n",
    "        soundex = Soundex()\n",
    "\n",
    "        # Calculate soundexes for each name part\n",
    "        try:\n",
    "            self.soundexes = [soundex.phonetics(name) for name in self.names if name[:1].isalpha()]\n",
    "            \n",
    "            if len(self.soundexes) >= 1:\n",
    "                self.firstNameSoundex = self.soundexes[0]\n",
    "            else:\n",
    "                self.firstNameSoundex = None\n",
    "\n",
    "            if len(self.soundexes) >= 2:\n",
    "                self.lastNameSoundex = self.soundexes[-1]\n",
    "            else:\n",
    "                self.lastNameSoundex = None\n",
    "        except:\n",
    "            print('Crashed calculating soundexes for {}'.format(self.names))\n",
    "            raise\n",
    "            \n",
    "            \n",
    "        # Calculate soundexes for each derived name part\n",
    "        try:\n",
    "            self.derivedSoundexes = [soundex.phonetics(name) for name in self.derivedNames if name[:1].isalpha()]\n",
    "            \n",
    "            if len(self.derivedSoundexes) >= 1:\n",
    "                self.derivedFirstNameSoundex = self.derivedSoundexes[0]\n",
    "            else:\n",
    "                self.derivedFirstNameSoundex = None\n",
    "\n",
    "            if len(self.derivedSoundexes) >= 2:\n",
    "                self.derivedLastNameSoundex = self.derivedSoundexes[-1]\n",
    "            else:\n",
    "                self.derivedLastNameSoundex = None\n",
    "        except:\n",
    "            print('Crashed calculating soundexes for {}'.format(self.derivedNames))\n",
    "            raise"
   ]
  },
  {
   "cell_type": "markdown",
   "metadata": {},
   "source": [
    "## Unit Tests\n",
    "\n",
    "A handful of very basic tests"
   ]
  },
  {
   "cell_type": "code",
   "execution_count": 4,
   "metadata": {},
   "outputs": [],
   "source": [
    "class TestName(unittest.TestCase):\n",
    "    '''Class to test Name class'''\n",
    "\n",
    "    def testNickname(self):\n",
    "\n",
    "        name = Name('Bob Spagnoletti')\n",
    "\n",
    "        self.assertEqual(name.name, 'Bob Spagnoletti')\n",
    "        self.assertEqual(name.firstName, 'Bob')\n",
    "        self.assertEqual(name.lastName, 'Spagnoletti')\n",
    "        self.assertEqual(name.names, ['Bob', 'Spagnoletti'])\n",
    "        self.assertEqual(name.initials, ['B', 'S'])\n",
    "        self.assertEqual(name.soundexes, ['B100', 'S125'])\n",
    "        self.assertEqual(name.firstNameSoundex, 'B100')\n",
    "        self.assertEqual(name.lastNameSoundex, 'S125')\n",
    "\n",
    "        self.assertEqual(name.derivedName, 'Robert Spagnoletti')\n",
    "        self.assertEqual(name.derivedFirstName, 'Robert')\n",
    "        self.assertEqual(name.derivedLastName, 'Spagnoletti')\n",
    "        self.assertEqual(name.derivedNames, ['Robert', 'Spagnoletti'])\n",
    "        self.assertEqual(name.derivedInitials, ['R', 'S'])\n",
    "        self.assertEqual(name.derivedSoundexes, ['R163', 'S125'])\n",
    "        self.assertEqual(name.derivedFirstNameSoundex, 'R163')\n",
    "        self.assertEqual(name.derivedLastNameSoundex, 'S125')\n",
    "\n",
    "\n",
    "    def testHyphen(self):\n",
    "\n",
    "        name = Name('Claude Van-Martyn')\n",
    "\n",
    "        self.assertEqual(name.name, 'Claude Van-Martyn')\n",
    "        self.assertEqual(name.firstName, 'Claude')\n",
    "        self.assertEqual(name.lastName, 'Martyn')\n",
    "        self.assertEqual(name.names, ['Claude', 'Van', 'Martyn'])\n",
    "        self.assertEqual(name.initials, ['C', 'V', 'M'])\n",
    "        self.assertEqual(name.soundexes, ['C430', 'V500', 'M635'])\n",
    "        self.assertEqual(name.firstNameSoundex, 'C430')\n",
    "        self.assertEqual(name.lastNameSoundex, 'M635')\n",
    "\n",
    "        self.assertEqual(name.derivedName, 'Claude Van Martyn')\n",
    "        self.assertEqual(name.derivedFirstName, 'Claude')\n",
    "        self.assertEqual(name.derivedLastName, 'Martyn')\n",
    "        self.assertEqual(name.derivedNames, ['Claude', 'Van', 'Martyn'])\n",
    "        self.assertEqual(name.derivedInitials, ['C', 'V', 'M'])\n",
    "        self.assertEqual(name.derivedSoundexes, ['C430', 'V500', 'M635'])\n",
    "        self.assertEqual(name.derivedFirstNameSoundex, 'C430')\n",
    "        self.assertEqual(name.derivedLastNameSoundex, 'M635')\n",
    "\n",
    "\n",
    "    def testInitials(self):\n",
    "\n",
    "        name = Name('E.H.S.')\n",
    "\n",
    "        self.assertEqual(name.name, 'E.H.S.')\n",
    "        self.assertEqual(name.firstName, 'E')\n",
    "        self.assertEqual(name.lastName, 'S')\n",
    "        self.assertEqual(name.names, ['E', 'H', 'S'])\n",
    "        self.assertEqual(name.initials, ['E', 'H', 'S'])\n",
    "        self.assertEqual(name.soundexes, ['E000', 'H000', 'S000'])\n",
    "        self.assertEqual(name.firstNameSoundex, 'E000')\n",
    "        self.assertEqual(name.lastNameSoundex, 'S000')\n",
    "\n",
    "        self.assertEqual(name.derivedName, 'E H S')\n",
    "        self.assertEqual(name.derivedFirstName, 'E')\n",
    "        self.assertEqual(name.derivedLastName, 'S')\n",
    "        self.assertEqual(name.derivedNames, ['E', 'H', 'S'])\n",
    "        self.assertEqual(name.derivedInitials, ['E', 'H', 'S'])\n",
    "        self.assertEqual(name.derivedSoundexes, ['E000', 'H000', 'S000'])\n",
    "        self.assertEqual(name.derivedFirstNameSoundex, 'E000')\n",
    "        self.assertEqual(name.derivedLastNameSoundex, 'S000')\n",
    "\n",
    "\n",
    "    def testCrash(self):\n",
    "\n",
    "        name = Name('Richard Jones (GBR-32)')"
   ]
  },
  {
   "cell_type": "markdown",
   "metadata": {},
   "source": [
    "## Run Unit Tests\n",
    "\n",
    "Note: Only run unit tests when running this script directly, not during an import"
   ]
  },
  {
   "cell_type": "code",
   "execution_count": 5,
   "metadata": {},
   "outputs": [
    {
     "name": "stderr",
     "output_type": "stream",
     "text": [
      "....\n",
      "----------------------------------------------------------------------\n",
      "Ran 4 tests in 0.006s\n",
      "\n",
      "OK\n"
     ]
    }
   ],
   "source": [
    "if __name__ == '__main__':\n",
    "    unittest.main(argv=['first-arg-is-ignored'], exit=False)"
   ]
  },
  {
   "cell_type": "markdown",
   "metadata": {
    "collapsed": true
   },
   "source": [
    "## All Done!"
   ]
  }
 ],
 "metadata": {
  "kernelspec": {
   "display_name": "Python 3",
   "language": "python",
   "name": "python3"
  },
  "language_info": {
   "codemirror_mode": {
    "name": "ipython",
    "version": 3
   },
   "file_extension": ".py",
   "mimetype": "text/x-python",
   "name": "python",
   "nbconvert_exporter": "python",
   "pygments_lexer": "ipython3",
   "version": "3.8.8"
  }
 },
 "nbformat": 4,
 "nbformat_minor": 1
}
