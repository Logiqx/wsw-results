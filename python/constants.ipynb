{
 "cells": [
  {
   "cell_type": "markdown",
   "metadata": {},
   "source": [
    "# Constants Module"
   ]
  },
  {
   "cell_type": "markdown",
   "metadata": {},
   "source": [
    "## Configuration\n",
    "\n",
    "Configuration paths and filenames"
   ]
  },
  {
   "cell_type": "code",
   "execution_count": 1,
   "metadata": {},
   "outputs": [],
   "source": [
    "EVENTS_DIR = 'events'\n",
    "CONFIG_DIR = 'config'\n",
    "SESSIONS_DIR = 'config/sessions'\n",
    "REPORTS_DIR = 'config/reports'\n",
    "GPSDATA_DIR = 'gpsdata'\n",
    "RUNDATA_DIR = 'rundata'\n",
    "RESULTS_DIR = 'results'"
   ]
  },
  {
   "cell_type": "code",
   "execution_count": 2,
   "metadata": {},
   "outputs": [],
   "source": [
    "APP_CONFIG = 'app.json'\n",
    "ENTRANTS_CSV = 'entrants.csv'\n",
    "COURSES_JSON = 'courses.json'"
   ]
  },
  {
   "cell_type": "code",
   "execution_count": 3,
   "metadata": {},
   "outputs": [],
   "source": [
    "DEFAULT_COURSE = 'Default'\n",
    "COURSE_ID_TBC = '??'"
   ]
  },
  {
   "cell_type": "markdown",
   "metadata": {},
   "source": [
    "## SpeedRun\n",
    "\n",
    "Titles / field headings for a speed run"
   ]
  },
  {
   "cell_type": "code",
   "execution_count": 4,
   "metadata": {},
   "outputs": [],
   "source": [
    "T_COURSE = 'Course'\n",
    "T_SAIL_NUMBER = 'Sail Number'\n",
    "T_RUN = 'Run'\n",
    "T_FILENAME = 'Filename'\n",
    "T_START_TIME = 'Start Time'\n",
    "T_DURATION = 'Duration'\n",
    "T_SPEED = 'Speed (kts)'\n",
    "T_COG = 'COG'"
   ]
  },
  {
   "cell_type": "markdown",
   "metadata": {
    "collapsed": true
   },
   "source": [
    "## All Done!"
   ]
  }
 ],
 "metadata": {
  "kernelspec": {
   "display_name": "Python 3 (ipykernel)",
   "language": "python",
   "name": "python3"
  },
  "language_info": {
   "codemirror_mode": {
    "name": "ipython",
    "version": 3
   },
   "file_extension": ".py",
   "mimetype": "text/x-python",
   "name": "python",
   "nbconvert_exporter": "python",
   "pygments_lexer": "ipython3",
   "version": "3.9.7"
  }
 },
 "nbformat": 4,
 "nbformat_minor": 1
}
