{
 "cells": [
  {
   "cell_type": "markdown",
   "metadata": {},
   "source": [
    "# Session Module"
   ]
  },
  {
   "cell_type": "markdown",
   "metadata": {},
   "source": [
    "## Initialisation\n",
    "\n",
    "Basic approach to determine the project directory"
   ]
  },
  {
   "cell_type": "code",
   "execution_count": 1,
   "metadata": {},
   "outputs": [],
   "source": [
    "import os\n",
    "import glob\n",
    "\n",
    "import json\n",
    "import unittest\n",
    "\n",
    "from common import Printable, projdir\n",
    "\n",
    "from course import Course\n",
    "\n",
    "from constants import *"
   ]
  },
  {
   "cell_type": "markdown",
   "metadata": {},
   "source": [
    "## Session Class\n",
    "\n",
    "Class to manage sessions"
   ]
  },
  {
   "cell_type": "code",
   "execution_count": 2,
   "metadata": {},
   "outputs": [],
   "source": [
    "class Session(Printable):\n",
    "    def __init__(self, event, dataPath, configPath, appConfig, verbosity=1):\n",
    "        '''Initialise session object'''\n",
    "\n",
    "        super().__init__(verbosity=verbosity)\n",
    "\n",
    "        self.event = event\n",
    "        self.entrants = event.entrants\n",
    "\n",
    "        self.dataPath = dataPath\n",
    "        self.configPath = configPath\n",
    "\n",
    "        self.date = os.path.basename(configPath)\n",
    "        self.year = self.date[:4]\n",
    "\n",
    "        self.appConfig = appConfig\n",
    "\n",
    "        self.courses = {}\n",
    "        self.runs = {}\n",
    "        self.numRuns = 0\n",
    "\n",
    "\n",
    "    def loadConfig(self):\n",
    "        '''Read config from JSON'''\n",
    "\n",
    "        filename = os.path.join(self.configPath, COURSES_JSON)\n",
    "        with open(filename, 'r', encoding='utf-8') as f:\n",
    "            jsonTxt = f.read()\n",
    "            courseDict = json.loads(jsonTxt)\n",
    "            \n",
    "            for courseId in courseDict:\n",
    "                # Course ID should be uppercase but just to be sure...\n",
    "                courseId = courseId.upper()\n",
    "                if courseId in self.courses:\n",
    "                    raise ValueError('Duplicate course \"{}\" for {}'.format(courseId, self.date))\n",
    "\n",
    "                course = Course(self, courseId,\n",
    "                                courseDict[courseId]['Start Time'], courseDict[courseId]['End Time'],\n",
    "                                self.appConfig, verbosity=self.verbosity)\n",
    "                self.courses[courseId] = course\n",
    "\n",
    "\n",
    "    def loadRuns(self, sailNos, gt31Ids):\n",
    "        '''Read speeds from CSV files'''\n",
    "\n",
    "        csvPaths = sorted(glob.glob(os.path.join(self.dataPath, '*')))\n",
    "        \n",
    "        for csvPath in csvPaths:\n",
    "            prefix, sessionDate, courseId = os.path.splitext(os.path.basename(csvPath))[0].split('_')\n",
    "            suffix = os.path.splitext(csvPath)[1]\n",
    "\n",
    "            # Verify the filename\n",
    "            if suffix.lower() != '.csv':\n",
    "                raise ValueError('Invalid file suffix \"{}\" for {}'.format(suffix, os.path.basename(csvPath)))\n",
    "            if prefix.upper() != 'GPSDATA':\n",
    "                raise ValueError('Invalid file prefix \"{}\" for {}'.format(prefix, os.path.basename(csvPath)))\n",
    "            if sessionDate != self.date:\n",
    "                raise ValueError('Invalid file date \"{}\" for {}'.format(sessionDate, os.path.basename(csvPath)))\n",
    "            if courseId.upper() not in self.courses:\n",
    "                raise ValueError('Invalid course \"{}\" for {}'.format(courseId, os.path.basename(csvPath)))\n",
    "            \n",
    "            course = self.courses[courseId.upper()]\n",
    "            course.loadRuns(csvPath, sailNos, gt31Ids)\n",
    "\n",
    "        self.sortRuns()\n",
    "\n",
    "\n",
    "    def storeRun(self, entrantId, speedRun):\n",
    "        '''Store run in memory'''\n",
    "\n",
    "        if entrantId in self.runs:\n",
    "            self.runs[entrantId].append(speedRun)\n",
    "        else:\n",
    "            self.runs[entrantId] = [speedRun]\n",
    "            \n",
    "        self.numRuns += 1\n",
    "\n",
    "        self.event.storeRun(entrantId, speedRun)\n",
    "\n",
    "\n",
    "    def sortRuns(self):\n",
    "        '''Sort runs for each person, fastest to slowest'''\n",
    "\n",
    "        for entrantId in self.runs:\n",
    "            self.runs[entrantId].sort(key=lambda x: x.data[T_SPEED], reverse=True)"
   ]
  },
  {
   "cell_type": "markdown",
   "metadata": {},
   "source": [
    "## Unit Tests\n",
    "\n",
    "A handful of very basic tests, including a dummy event class"
   ]
  },
  {
   "cell_type": "code",
   "execution_count": 3,
   "metadata": {},
   "outputs": [],
   "source": [
    "class DummyEvent(Printable):\n",
    "    def __init__(self):\n",
    "        '''Initialise event object'''\n",
    "        \n",
    "        self.entrants = {0: None}\n",
    "\n",
    "        self.runs = {}\n",
    "        self.numRuns = 0\n",
    "\n",
    "\n",
    "    def storeRun(self, entrantId, speedRun):\n",
    "        \n",
    "        if entrantId in self.runs:\n",
    "            self.runs[entrantId].append(speedRun)\n",
    "        else:\n",
    "            self.runs[entrantId] = [speedRun]\n",
    "            \n",
    "        self.numRuns += 1"
   ]
  },
  {
   "cell_type": "code",
   "execution_count": 4,
   "metadata": {},
   "outputs": [],
   "source": [
    "class TestSession(unittest.TestCase):\n",
    "    '''Class to test Session class'''\n",
    "    \n",
    "    def test20191010(self, event=None, sailNos={}, gt31Ids={}):\n",
    "        '''Test using 20191010 data'''\n",
    "\n",
    "        if event is None:\n",
    "            event = DummyEvent()\n",
    "\n",
    "        sessionDate = '20191010'\n",
    "        dataPath = os.path.join(projdir, EVENTS_DIR, sessionDate[:4], GPSDATA_DIR, sessionDate)\n",
    "        configPath = os.path.join(projdir, EVENTS_DIR, sessionDate[:4], SESSIONS_DIR, sessionDate)\n",
    "        \n",
    "        # Vebosity is zero to suppress 'WARNING: Unrecognised GT-31 ID' \n",
    "        session = Session(event, dataPath, configPath, appConfig, verbosity=0)\n",
    "        session.loadConfig()\n",
    "        session.loadRuns(sailNos, gt31Ids)\n",
    "\n",
    "        self.assertEqual(session.numRuns, 638)\n",
    "        self.assertEqual(len(session.runs), 40)\n",
    "\n",
    "        # Check runs are sorted correctly\n",
    "        for personId in session.runs:\n",
    "            maxSpeed = 99.999\n",
    "            for run in session.runs[personId]:\n",
    "                self.assertEqual(run.data[T_SPEED] <= maxSpeed, True)\n",
    "                maxSpeed = run.data[T_SPEED]\n",
    "\n",
    "\n",
    "    def test20191011(self, event=None, sailNos={}, gt31Ids={}):\n",
    "        '''Test using 20191011 data'''\n",
    "\n",
    "        if event is None:\n",
    "            event = DummyEvent()\n",
    "\n",
    "        sessionDate = '20191011'\n",
    "        dataPath = os.path.join(projdir, EVENTS_DIR, sessionDate[:4], GPSDATA_DIR, sessionDate)\n",
    "        configPath = os.path.join(projdir, EVENTS_DIR, sessionDate[:4], SESSIONS_DIR, sessionDate)\n",
    "        \n",
    "        # Vebosity is zero to suppress 'WARNING: Unrecognised GT-31 ID' \n",
    "        session = Session(event, dataPath, configPath, appConfig, verbosity=0)\n",
    "        session.loadConfig()\n",
    "        session.loadRuns(sailNos, gt31Ids)\n",
    "\n",
    "        self.assertEqual(session.numRuns, 515)\n",
    "        self.assertEqual(len(session.runs), 36)\n",
    "\n",
    "        # Check runs are sorted correctly\n",
    "        for personId in session.runs:\n",
    "            maxSpeed = 99.999\n",
    "            for run in session.runs[personId]:\n",
    "                self.assertEqual(run.data[T_SPEED] <= maxSpeed, True)\n",
    "                maxSpeed = run.data[T_SPEED]\n",
    "\n",
    "\n",
    "    def test201910(self, event=None):\n",
    "        '''Test using 20191010 + 20191011 data'''\n",
    "\n",
    "        event = DummyEvent()\n",
    "        sailNos = {}\n",
    "        gt31Ids = {}\n",
    "\n",
    "        # Load two sessions\n",
    "        self.test20191010(event=event, sailNos=sailNos, gt31Ids=gt31Ids)\n",
    "        self.test20191011(event=event, sailNos=sailNos, gt31Ids=gt31Ids)\n",
    "\n",
    "        # Check the event totals\n",
    "        self.assertEqual(event.numRuns, 1153)\n",
    "        self.assertEqual(len(event.runs), 47)"
   ]
  },
  {
   "cell_type": "markdown",
   "metadata": {},
   "source": [
    "## Run Unit Tests\n",
    "\n",
    "Note: Only run unit tests when running this script directly, not during an import"
   ]
  },
  {
   "cell_type": "code",
   "execution_count": 5,
   "metadata": {},
   "outputs": [
    {
     "name": "stderr",
     "output_type": "stream",
     "text": [
      "...\n",
      "----------------------------------------------------------------------\n",
      "Ran 3 tests in 0.068s\n",
      "\n",
      "OK\n"
     ]
    }
   ],
   "source": [
    "if __name__ == '__main__':\n",
    "    # Read main config into global variable\n",
    "    filename = os.path.join(projdir, CONFIG_DIR, CONFIG_JSON)\n",
    "    with open(filename, 'r', encoding='utf-8') as f:\n",
    "        jsonTxt = f.read()\n",
    "        appConfig = json.loads(jsonTxt)\n",
    "\n",
    "    unittest.main(argv=['first-arg-is-ignored'], exit=False)"
   ]
  },
  {
   "cell_type": "markdown",
   "metadata": {
    "collapsed": true
   },
   "source": [
    "## All Done!"
   ]
  }
 ],
 "metadata": {
  "kernelspec": {
   "display_name": "Python 3",
   "language": "python",
   "name": "python3"
  },
  "language_info": {
   "codemirror_mode": {
    "name": "ipython",
    "version": 3
   },
   "file_extension": ".py",
   "mimetype": "text/x-python",
   "name": "python",
   "nbconvert_exporter": "python",
   "pygments_lexer": "ipython3",
   "version": "3.8.8"
  }
 },
 "nbformat": 4,
 "nbformat_minor": 1
}
